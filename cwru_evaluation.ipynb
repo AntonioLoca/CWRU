{
  "nbformat": 4,
  "nbformat_minor": 0,
  "metadata": {
    "colab": {
      "name": "cwru-evaluation-by-severity.ipynb",
      "version": "0.3.2",
      "provenance": [],
      "collapsed_sections": []
    },
    "kernelspec": {
      "name": "python3",
      "display_name": "Python 3"
    },
    "accelerator": "GPU"
  },
  "cells": [
    {
      "cell_type": "markdown",
      "metadata": {
        "id": "Con6WhcSFxxm",
        "colab_type": "text"
      },
      "source": [
        "# CWRU files.\n",
        "\n",
        "Associate each Matlab file name to a bearing condition in a Python dictionary.\n",
        "The dictionary keys identify the conditions.\n",
        "\n",
        "There are only four normal conditions, with loads of 0, 1, 2 and 3 hp.\n",
        "All conditions end with an underscore character followed by an algarism representing the load applied during the acquisitions.\n",
        "The remaining conditions follow the pattern:\n",
        "\n",
        "\n",
        "* First two characters represent the bearing location, i.e. drive end (DE) and fan end (FE).\n",
        "* The following two characters represent the failure location in the bearing, i.e. ball (BA), Inner Race (IR) and Outer Race (OR).\n",
        "* The next three algarisms indicate the severity of the failure, where 007 stands for 0.007 inches and 0021 for 0.021 inches.\n",
        "* For Outer Race failures, the character @ is followed by a number that indicates different load zones. \n",
        "\n"
      ]
    },
    {
      "cell_type": "code",
      "metadata": {
        "id": "uSt7Dc1-nzQn",
        "colab_type": "code",
        "colab": {}
      },
      "source": [
        "debug = False\n",
        "# size of each segment\n",
        "sample_size = 32768\n",
        "if not debug:\n",
        "  sample_size = 512\n",
        "acquisitions = {}\n",
        "# Normal\n",
        "acquisitions[\"Normal_0\"] = \"97.mat\"\n",
        "acquisitions[\"Normal_1\"] = \"98.mat\"\n",
        "acquisitions[\"Normal_2\"] = \"99.mat\"\n",
        "acquisitions[\"Normal_3\"] = \"100.mat\"\n",
        "# DE Inner Race 0.007 inches\n",
        "acquisitions[\"DEIR.007_0\"] = \"105.mat\"\n",
        "acquisitions[\"DEIR.007_1\"] = \"106.mat\"\n",
        "acquisitions[\"DEIR.007_2\"] = \"107.mat\"\n",
        "acquisitions[\"DEIR.007_3\"] = \"108.mat\"\n",
        "# DE Ball 0.007 inches\n",
        "acquisitions[\"DEB.007_0\"] = \"118.mat\"\n",
        "acquisitions[\"DEB.007_1\"] = \"119.mat\"\n",
        "acquisitions[\"DEB.007_2\"] = \"120.mat\"\n",
        "acquisitions[\"DEB.007_3\"] = \"121.mat\"\n",
        "# DE Outer race 0.007 inches centered @6:00\n",
        "acquisitions[\"DEOR.007@6_0\"] = \"130.mat\"\n",
        "acquisitions[\"DEOR.007@6_1\"] = \"131.mat\"\n",
        "acquisitions[\"DEOR.007@6_2\"] = \"132.mat\"\n",
        "acquisitions[\"DEOR.007@6_3\"] = \"133.mat\"\n",
        "# DE Outer race 0.007 inches centered @3:00\n",
        "acquisitions[\"DEOR.007@3_0\"] = \"144.mat\"\n",
        "acquisitions[\"DEOR.007@3_1\"] = \"145.mat\"\n",
        "acquisitions[\"DEOR.007@3_2\"] = \"146.mat\"\n",
        "acquisitions[\"DEOR.007@3_3\"] = \"147.mat\"\n",
        "# DE Outer race 0.007 inches centered @12:00\n",
        "acquisitions[\"DEOR.007@12_0\"] = \"156.mat\"\n",
        "acquisitions[\"DEOR.007@12_1\"] = \"158.mat\"\n",
        "acquisitions[\"DEOR.007@12_2\"] = \"159.mat\"\n",
        "acquisitions[\"DEOR.007@12_3\"] = \"160.mat\"\n",
        "# DE Inner Race 0.014 inches\n",
        "acquisitions[\"DEIR.014_0\"] = \"169.mat\"\n",
        "acquisitions[\"DEIR.014_1\"] = \"170.mat\"\n",
        "acquisitions[\"DEIR.014_2\"] = \"171.mat\"\n",
        "acquisitions[\"DEIR.014_3\"] = \"172.mat\"\n",
        "# DE Ball 0.014 inches\n",
        "acquisitions[\"DEB.014_0\"] = \"185.mat\"\n",
        "acquisitions[\"DEB.014_1\"] = \"186.mat\"\n",
        "acquisitions[\"DEB.014_2\"] = \"187.mat\"\n",
        "acquisitions[\"DEB.014_3\"] = \"188.mat\"\n",
        "# DE Outer race 0.014 inches centered @6:00\n",
        "acquisitions[\"DEOR.014@6_0\"] = \"197.mat\"\n",
        "acquisitions[\"DEOR.014@6_1\"] = \"198.mat\"\n",
        "acquisitions[\"DEOR.014@6_2\"] = \"199.mat\"\n",
        "acquisitions[\"DEOR.014@6_3\"] = \"200.mat\"\n",
        "# DE Ball 0.021 inches\n",
        "acquisitions[\"DEB.021_0\"] = \"222.mat\"\n",
        "acquisitions[\"DEB.021_1\"] = \"223.mat\"\n",
        "acquisitions[\"DEB.021_2\"] = \"224.mat\"\n",
        "acquisitions[\"DEB.021_3\"] = \"225.mat\"\n",
        "# FE Inner Race 0.021 inches\n",
        "acquisitions[\"FEIR.021_0\"] = \"270.mat\"\n",
        "acquisitions[\"FEIR.021_1\"] = \"271.mat\"\n",
        "acquisitions[\"FEIR.021_2\"] = \"272.mat\"\n",
        "acquisitions[\"FEIR.021_3\"] = \"273.mat\"\n",
        "# FE Inner Race 0.014 inches\n",
        "acquisitions[\"FEIR.014_0\"] = \"274.mat\"\n",
        "acquisitions[\"FEIR.014_1\"] = \"275.mat\"\n",
        "acquisitions[\"FEIR.014_2\"] = \"276.mat\"\n",
        "acquisitions[\"FEIR.014_3\"] = \"277.mat\"\n",
        "# FE Ball 0.007 inches\n",
        "acquisitions[\"FEB.007_0\"] = \"282.mat\"\n",
        "acquisitions[\"FEB.007_1\"] = \"283.mat\"\n",
        "acquisitions[\"FEB.007_2\"] = \"284.mat\"\n",
        "acquisitions[\"FEB.007_3\"] = \"285.mat\"\n",
        "# DE Inner Race 0.021 inches\n",
        "acquisitions[\"DEIR.021_0\"] = \"209.mat\"\n",
        "acquisitions[\"DEIR.021_1\"] = \"210.mat\"\n",
        "acquisitions[\"DEIR.021_2\"] = \"211.mat\"\n",
        "acquisitions[\"DEIR.021_3\"] = \"212.mat\"\n",
        "# DE Outer race 0.021 inches centered @6:00\n",
        "acquisitions[\"DEOR.021@6_0\"] = \"234.mat\"\n",
        "acquisitions[\"DEOR.021@6_1\"] = \"235.mat\"\n",
        "acquisitions[\"DEOR.021@6_2\"] = \"236.mat\"\n",
        "acquisitions[\"DEOR.021@6_3\"] = \"237.mat\"\n",
        "# DE Outer race 0.021 inches centered @3:00\n",
        "acquisitions[\"DEOR.021@3_0\"] = \"246.mat\"\n",
        "acquisitions[\"DEOR.021@3_1\"] = \"247.mat\"\n",
        "acquisitions[\"DEOR.021@3_2\"] = \"248.mat\"\n",
        "acquisitions[\"DEOR.021@3_3\"] = \"249.mat\"\n",
        "# DE Outer race 0.021 inches centered @12:00\n",
        "acquisitions[\"DEOR.021@12_0\"] = \"258.mat\"\n",
        "acquisitions[\"DEOR.021@12_1\"] = \"259.mat\"\n",
        "acquisitions[\"DEOR.021@12_2\"] = \"260.mat\"\n",
        "acquisitions[\"DEOR.021@12_3\"] = \"261.mat\"\n",
        "# FE Inner Race 0.007 inches\n",
        "acquisitions[\"FEIR.007_0\"] = \"278.mat\"\n",
        "acquisitions[\"FEIR.007_1\"] = \"279.mat\"\n",
        "acquisitions[\"FEIR.007_2\"] = \"280.mat\"\n",
        "acquisitions[\"FEIR.007_3\"] = \"281.mat\"\n",
        "# FE Ball 0.014 inches\n",
        "acquisitions[\"FEB.014_0\"] = \"286.mat\"\n",
        "acquisitions[\"FEB.014_1\"] = \"287.mat\"\n",
        "acquisitions[\"FEB.014_2\"] = \"288.mat\"\n",
        "acquisitions[\"FEB.014_3\"] = \"289.mat\"\n",
        "# FE Ball 0.021 inches\n",
        "acquisitions[\"FEB.021_0\"] = \"290.mat\"\n",
        "acquisitions[\"FEB.021_1\"] = \"291.mat\"\n",
        "acquisitions[\"FEB.021_2\"] = \"292.mat\"\n",
        "acquisitions[\"FEB.021_3\"] = \"293.mat\"\n",
        "# FE Outer race 0.007 inches centered @6:00\n",
        "acquisitions[\"FEOR.007@6_0\"] = \"294.mat\"\n",
        "acquisitions[\"FEOR.007@6_1\"] = \"295.mat\"\n",
        "acquisitions[\"FEOR.007@6_2\"] = \"296.mat\"\n",
        "acquisitions[\"FEOR.007@6_3\"] = \"297.mat\"\n",
        "# FE Outer race 0.007 inches centered @3:00\n",
        "acquisitions[\"FEOR.007@3_0\"] = \"298.mat\"\n",
        "acquisitions[\"FEOR.007@3_1\"] = \"299.mat\"\n",
        "acquisitions[\"FEOR.007@3_2\"] = \"300.mat\"\n",
        "acquisitions[\"FEOR.007@3_3\"] = \"301.mat\"\n",
        "# FE Outer race 0.007 inches centered @12:00\n",
        "acquisitions[\"FEOR.007@12_0\"] = \"302.mat\"\n",
        "acquisitions[\"FEOR.007@12_1\"] = \"305.mat\"\n",
        "acquisitions[\"FEOR.007@12_2\"] = \"306.mat\"\n",
        "acquisitions[\"FEOR.007@12_3\"] = \"307.mat\"\n",
        "# FE Outer race 0.014 inches centered @3:00\n",
        "acquisitions[\"FEOR.014@3_0\"] = \"310.mat\"\n",
        "acquisitions[\"FEOR.014@3_1\"] = \"309.mat\"\n",
        "acquisitions[\"FEOR.014@3_2\"] = \"311.mat\"\n",
        "acquisitions[\"FEOR.014@3_3\"] = \"312.mat\"\n",
        "# FE Outer race 0.014 inches centered @6:00\n",
        "acquisitions[\"FEOR.014@6_0\"] = \"313.mat\"\n",
        "# FE Outer race 0.021 inches centered @6:00\n",
        "acquisitions[\"FEOR.021@6_0\"] = \"315.mat\"\n",
        "# FE Outer race 0.021 inches centered @3:00\n",
        "acquisitions[\"FEOR.021@3_1\"] = \"316.mat\"\n",
        "acquisitions[\"FEOR.021@3_2\"] = \"317.mat\"\n",
        "acquisitions[\"FEOR.021@3_3\"] = \"318.mat\"\n",
        "# DE Inner Race 0.028 inches\n",
        "acquisitions[\"DEIR.028_0\"] = \"3001.mat\"\n",
        "acquisitions[\"DEIR.028_1\"] = \"3002.mat\"\n",
        "acquisitions[\"DEIR.028_2\"] = \"3003.mat\"\n",
        "acquisitions[\"DEIR.028_3\"] = \"3004.mat\"\n",
        "# DE Ball 0.028 inches\n",
        "acquisitions[\"DEB.028_0\"] = \"3005.mat\"\n",
        "acquisitions[\"DEB.028_1\"] = \"3006.mat\"\n",
        "acquisitions[\"DEB.028_2\"] = \"3007.mat\"\n",
        "acquisitions[\"DEB.028_3\"] = \"3008.mat\"\n"
      ],
      "execution_count": 0,
      "outputs": []
    },
    {
      "cell_type": "markdown",
      "metadata": {
        "id": "R_4WiLNSyrMB",
        "colab_type": "text"
      },
      "source": [
        "#Functions definitions"
      ]
    },
    {
      "cell_type": "code",
      "metadata": {
        "id": "zHDI4LWbyoP6",
        "colab_type": "code",
        "colab": {}
      },
      "source": [
        "def get_labels_dict(acquisitions, separator='_', detectPosition=True):\n",
        "  \"\"\"Generate a dictionary linking the labels with values to keep consistence.\"\"\"\n",
        "  labels_dict = {}\n",
        "  value = 0\n",
        "  for key in acquisitions.keys():\n",
        "    key = key.split('_')[0]\n",
        "    key = key.split(separator)\n",
        "    if key[0] == \"Normal\" or detectPosition:\n",
        "      label = key[0]\n",
        "    else:\n",
        "      label = key[0][2:]\n",
        "    if not label in labels_dict:\n",
        "      labels_dict[label] = value\n",
        "      value += 1\n",
        "  return labels_dict"
      ],
      "execution_count": 0,
      "outputs": []
    },
    {
      "cell_type": "markdown",
      "metadata": {
        "id": "3Rz0cKigF7q6",
        "colab_type": "text"
      },
      "source": [
        "Convert Matlab file into tensors."
      ]
    },
    {
      "cell_type": "code",
      "metadata": {
        "id": "2tn5IFqkCHQx",
        "colab_type": "code",
        "colab": {}
      },
      "source": [
        "import scipy.io\n",
        "import numpy as np\n",
        "def acquisition2tensor(file_name, position=None, sample_size=sample_size):\n",
        "  \"\"\"\n",
        "  Convert Matlab file into tensors.\n",
        "  The file is divided in segments of sample_size values.\n",
        "  \"\"\"\n",
        "  print(file_name, end=' ')\n",
        "  matlab_file = scipy.io.loadmat(file_name)\n",
        "  DE_samples = []\n",
        "  FE_samples = []\n",
        "  \n",
        "  #signal segmentation\n",
        "  signal_begin = 0\n",
        "  if position == None:\n",
        "    DE_time = [key for key in matlab_file if key.endswith(\"DE_time\")][0] #Find the DRIVE END acquisition key name\n",
        "    FE_time = [key for key in matlab_file if key.endswith(\"FE_time\")][0] #Find the FAN END acquisition key name\n",
        "    acquisition_size = max(len(matlab_file[DE_time]),len(matlab_file[FE_time]))\n",
        "    while signal_begin + sample_size < acquisition_size:\n",
        "      DE_samples.append([item for sublist in matlab_file[DE_time][signal_begin:signal_begin+sample_size] for item in sublist])\n",
        "      FE_samples.append([item for sublist in matlab_file[FE_time][signal_begin:signal_begin+sample_size] for item in sublist])\n",
        "      signal_begin += sample_size\n",
        "    sample_tensor = np.stack([DE_samples,FE_samples],axis=2).astype('float32')\n",
        "  elif position == 'DE':\n",
        "    DE_time = [key for key in matlab_file if key.endswith(\"DE_time\")][0] #Find the DRIVE END acquisition key name\n",
        "    acquisition_size = len(matlab_file[DE_time])\n",
        "    while signal_begin + sample_size < acquisition_size:\n",
        "      DE_samples.append([item for sublist in matlab_file[DE_time][signal_begin:signal_begin+sample_size] for item in sublist])\n",
        "      signal_begin += sample_size\n",
        "    sample_tensor = np.stack([DE_samples],axis=2).astype('float32')\n",
        "  elif position == 'FE':\n",
        "    FE_time = [key for key in matlab_file if key.endswith(\"FE_time\")][0] #Find the FAN END acquisition key name\n",
        "    acquisition_size = len(matlab_file[FE_time])\n",
        "    while signal_begin + sample_size < acquisition_size:\n",
        "      FE_samples.append([item for sublist in matlab_file[FE_time][signal_begin:signal_begin+sample_size] for item in sublist])\n",
        "      signal_begin += sample_size\n",
        "    sample_tensor = np.stack([FE_samples],axis=2).astype('float32')\n",
        "  return sample_tensor"
      ],
      "execution_count": 0,
      "outputs": []
    },
    {
      "cell_type": "markdown",
      "metadata": {
        "id": "x-G4gjyuvA7a",
        "colab_type": "text"
      },
      "source": [
        "Extract datasets from acquisitions."
      ]
    },
    {
      "cell_type": "code",
      "metadata": {
        "id": "YC4rhGwWMKT7",
        "colab_type": "code",
        "colab": {}
      },
      "source": [
        "def concatenate_datasets(xd,yd,xo,yo):\n",
        "  \"\"\"\n",
        "  xd: destination patterns tensor\n",
        "  yd: destination labels tensor\n",
        "  xo: origin patterns tensor to be concateneted \n",
        "  yo: origin labels tensor to be concateneted \n",
        "  \"\"\"\n",
        "  if xd is None or yd is None:\n",
        "    xd = xo\n",
        "    yd = yo\n",
        "  else:\n",
        "    xd = np.concatenate((xd,xo))\n",
        "    yd = np.concatenate((yd,yo))\n",
        "  return xd,yd\n",
        "\n",
        "import urllib.request\n",
        "import os.path\n",
        "\n",
        "def acquisitions_from_substr(substr, acquisitions, labels_dict, position=None,\n",
        "                             url=\"http://csegroups.case.edu/sites/default/files/bearingdatacenter/files/Datafiles/\"):\n",
        "  \"\"\"\n",
        "  Extract samples from all files with some load.\n",
        "  \"\"\"\n",
        "  samples = None\n",
        "  labels = None\n",
        "  for key in acquisitions:\n",
        "    if str(substr) in key:\n",
        "      file_name = acquisitions[key]\n",
        "      if not os.path.exists(file_name):\n",
        "        urllib.request.urlretrieve(url+file_name, file_name)\n",
        "      if substr[:2] == key[:2] and position == None:\n",
        "        acquisition_samples = acquisition2tensor(file_name)\n",
        "      elif position =='DE':\n",
        "        acquisition_samples = acquisition2tensor(file_name, 'DE')\n",
        "      elif position =='FE':\n",
        "        acquisition_samples = acquisition2tensor(file_name, 'FE')\n",
        "      else:\n",
        "        acquisition_samples = acquisition2tensor(file_name, key[:2])\n",
        "      for label in labels_dict.keys():\n",
        "        if label in key:\n",
        "          break\n",
        "      acquisition_labels = np.ones(acquisition_samples.shape[0])*labels_dict[label]\n",
        "      samples,labels = concatenate_datasets(samples,labels,acquisition_samples,acquisition_labels)\n",
        "  print(substr)\n",
        "  return samples,labels\n"
      ],
      "execution_count": 0,
      "outputs": []
    },
    {
      "cell_type": "markdown",
      "metadata": {
        "id": "y0xe9oYrW1lv",
        "colab_type": "text"
      },
      "source": [
        "Define function to plot the confusion matrices."
      ]
    },
    {
      "cell_type": "code",
      "metadata": {
        "id": "_ut28C6NjT8A",
        "colab_type": "code",
        "colab": {}
      },
      "source": [
        "import itertools\n",
        "from sklearn.metrics import confusion_matrix\n",
        "from google.colab import files\n",
        "from matplotlib import pyplot as plt\n",
        "\n",
        "\n",
        "def plot_confusion_matrix(cm, classes,\n",
        "                          normalize=False,\n",
        "                          title='Confusion matrix',\n",
        "                          cmap=plt.cm.Greys):\n",
        "    \"\"\"\n",
        "    This function prints and plots the confusion matrix.\n",
        "    Normalization can be applied by setting `normalize=True`.\n",
        "    \"\"\"\n",
        "    if normalize:\n",
        "        cm = cm.astype('float') / cm.sum(axis=1)[:, np.newaxis]\n",
        "        print(\"Normalized confusion matrix\")\n",
        "    else:\n",
        "        print('Confusion matrix, without normalization')\n",
        "\n",
        "    #print(cm)\n",
        "\n",
        "    plt.imshow(cm, interpolation='nearest', cmap=cmap)\n",
        "    plt.title(title)\n",
        "    #plt.colorbar()\n",
        "    tick_marks = np.arange(len(classes))\n",
        "    plt.xticks(tick_marks, classes, rotation=45)\n",
        "    plt.yticks(tick_marks, classes)\n",
        "\n",
        "    fmt = '.2f' if normalize else 'd'\n",
        "    thresh = cm.max() / 2.\n",
        "    for i, j in itertools.product(range(cm.shape[0]), range(cm.shape[1])):\n",
        "        plt.text(j, i, format(cm[i, j], fmt),\n",
        "                 horizontalalignment=\"center\",\n",
        "                 color=\"white\" if cm[i, j] > thresh else \"black\")\n",
        "\n",
        "    plt.tight_layout()\n",
        "    plt.ylabel('Actual label')\n",
        "    plt.xlabel('Predicted label')"
      ],
      "execution_count": 0,
      "outputs": []
    },
    {
      "cell_type": "markdown",
      "metadata": {
        "id": "sfwmQa0RJMvb",
        "colab_type": "text"
      },
      "source": [
        "#Downloading and Matlab files\n",
        "Extract samples."
      ]
    },
    {
      "cell_type": "code",
      "metadata": {
        "id": "HSASqQsHcgtj",
        "colab_type": "code",
        "outputId": "e5c854fd-3d2d-4499-c436-4da4112da864",
        "colab": {
          "base_uri": "https://localhost:8080/",
          "height": 276
        }
      },
      "source": [
        "labels_dict = get_labels_dict(acquisitions, '.', False)\n",
        "print(labels_dict)\n",
        "def normal_indenpendent_position_acquisitions(load,acquisitions,labels_dict):\n",
        "  x,y = None,None\n",
        "  for position in ['DE','FE']:\n",
        "    xn,yn = acquisitions_from_substr('Normal_'+str(load),acquisitions,labels_dict,position)\n",
        "    x,y = concatenate_datasets(x,y,xn,yn)\n",
        "  return x,y\n",
        "\n",
        "xn_0,yn_0 = normal_indenpendent_position_acquisitions(0,acquisitions,labels_dict)\n",
        "xn_1,yn_1 = normal_indenpendent_position_acquisitions(1,acquisitions,labels_dict)\n",
        "xn_2,yn_2 = normal_indenpendent_position_acquisitions(2,acquisitions,labels_dict)\n",
        "xn_3,yn_3 = normal_indenpendent_position_acquisitions(3,acquisitions,labels_dict)\n",
        "\n",
        "x007,y007 = acquisitions_from_substr('007',acquisitions,labels_dict)\n",
        "x014,y014 = acquisitions_from_substr('014',acquisitions,labels_dict)\n",
        "x021,y021 = acquisitions_from_substr('021',acquisitions,labels_dict)\n",
        "x028,y028 = acquisitions_from_substr('028',acquisitions,labels_dict)\n",
        "\n",
        "severities = ['007','014','021','028']"
      ],
      "execution_count": 27,
      "outputs": [
        {
          "output_type": "stream",
          "text": [
            "{'Normal': 0, 'IR': 1, 'B': 2, 'OR': 3}\n",
            "97.mat Normal_0\n",
            "97.mat Normal_0\n",
            "98.mat Normal_1\n",
            "98.mat Normal_1\n",
            "99.mat Normal_2\n",
            "99.mat Normal_2\n",
            "100.mat Normal_3\n",
            "100.mat Normal_3\n",
            "105.mat 106.mat 107.mat 108.mat 118.mat 119.mat 120.mat 121.mat 130.mat 131.mat 132.mat 133.mat 144.mat 145.mat 146.mat 147.mat 156.mat 158.mat 159.mat 160.mat 282.mat 283.mat 284.mat 285.mat 278.mat 279.mat 280.mat 281.mat 294.mat 295.mat 296.mat 297.mat 298.mat 299.mat 300.mat 301.mat 302.mat 305.mat 306.mat 307.mat 007\n",
            "169.mat 170.mat 171.mat 172.mat 185.mat 186.mat 187.mat 188.mat 197.mat 198.mat 199.mat 200.mat 274.mat 275.mat 276.mat 277.mat 286.mat 287.mat 288.mat 289.mat 310.mat 309.mat 311.mat 312.mat 313.mat 014\n",
            "222.mat 223.mat 224.mat 225.mat 270.mat 271.mat 272.mat 273.mat 209.mat 210.mat 211.mat 212.mat 234.mat 235.mat 236.mat 237.mat 246.mat 247.mat 248.mat 249.mat 258.mat 259.mat 260.mat 261.mat 290.mat 291.mat 292.mat 293.mat 315.mat 316.mat 317.mat 318.mat 021\n",
            "3001.mat 3002.mat 3003.mat 3004.mat 3005.mat 3006.mat 3007.mat 3008.mat 028\n"
          ],
          "name": "stdout"
        }
      ]
    },
    {
      "cell_type": "markdown",
      "metadata": {
        "id": "MHTas30pJh4h",
        "colab_type": "text"
      },
      "source": [
        "Count number of samples."
      ]
    },
    {
      "cell_type": "code",
      "metadata": {
        "id": "qFgZMLCbJg6u",
        "colab_type": "code",
        "outputId": "dc5f8eee-acab-4cf5-c80f-3dd9ddc8ee74",
        "colab": {
          "base_uri": "https://localhost:8080/",
          "height": 201
        }
      },
      "source": [
        "print(\"Label\", end='\\t')\n",
        "for s in severities:\n",
        "  print(s, end='\\t')\n",
        "print(\"total\")\n",
        "mat = np.zeros((4,4))\n",
        "i = 0\n",
        "for label,value in labels_dict.items():\n",
        "  print(label, end='\\t')\n",
        "  tsamples = 0\n",
        "  if label == 'Normal':\n",
        "    print(4*'\\t'+'...')\n",
        "    for load in range(4):\n",
        "      print(' '+str((load+len(severities)+1)%4)+(load)*'\\t', end='\\t')\n",
        "      mat[i][load] = list(eval('yn_'+str((load+len(severities)+1)%4))).count(value)\n",
        "      print(int(mat[i][load]))\n",
        "  else:\n",
        "    for j,severity in enumerate(['007','014','021','028']):\n",
        "      tmp = eval('y'+str(severity))\n",
        "      if tmp is not None:\n",
        "        nsamples = list(tmp).count(value)\n",
        "        mat[i][j] = nsamples\n",
        "        print(nsamples, end='\\t')\n",
        "        tsamples += nsamples\n",
        "      else:\n",
        "        print('0', end='\\t')\n",
        "    print(tsamples)\n",
        "  i+=1\n",
        "total = np.sum(mat,axis=0)\n",
        "print(\"Total:\", end='\\t')\n",
        "for i in range(len(total)):\n",
        "  print(int(total[i]), end='\\t')\n",
        "print(int(np.sum(total)))"
      ],
      "execution_count": 28,
      "outputs": [
        {
          "output_type": "stream",
          "text": [
            "Label\t007\t014\t021\t028\ttotal\n",
            "Normal\t\t\t\t\t...\n",
            " 1\t1890\n",
            " 2\t\t1890\n",
            " 3\t\t\t1896\n",
            " 0\t\t\t\t952\n",
            "IR\t1900\t1895\t1894\t946\t6635\n",
            "B\t1894\t1900\t1897\t944\t6635\n",
            "OR\t5694\t2131\t3798\t0\t11623\n",
            "Total:\t11378\t7816\t9485\t2842\t31521\n"
          ],
          "name": "stdout"
        }
      ]
    },
    {
      "cell_type": "markdown",
      "metadata": {
        "id": "DOmONx8MmJHw",
        "colab_type": "text"
      },
      "source": [
        "#Feature Extraction Models"
      ]
    },
    {
      "cell_type": "code",
      "metadata": {
        "id": "Huvg2IdrcfuI",
        "colab_type": "code",
        "colab": {}
      },
      "source": [
        "from sklearn.base import TransformerMixin\n",
        "import numpy as np\n",
        "import scipy.stats as stats\n",
        "\n",
        "# roor mean square\n",
        "def rms(x):\n",
        "  x = np.array(x)\n",
        "  return np.sqrt(np.mean(np.square(x)))\n",
        "# square root amplitude\n",
        "def sra(x):\n",
        "  x = np.array(x)\n",
        "  return np.mean(np.sqrt(np.absolute(x)))**2\n",
        "# peak to peak value\n",
        "def ppv(x):\n",
        "  x = np.array(x)\n",
        "  return np.max(x)-np.min(x)\n",
        "# crest factor\n",
        "def cf(x):\n",
        "  x = np.array(x)\n",
        "  return np.max(np.absolute(x))/rms(x)\n",
        "# impact factor\n",
        "def ifa(x):\n",
        "  x = np.array(x)\n",
        "  return np.max(np.absolute(x))/np.mean(np.absolute(x))\n",
        "# margin factor\n",
        "def mf(x):\n",
        "  x = np.array(x)\n",
        "  return np.max(np.absolute(x))/sra(x)\n",
        "# shape factor\n",
        "def sf(x):\n",
        "  x = np.array(x)\n",
        "  return rms(x)/np.mean(np.absolute(x))\n",
        "# kurtosis factor\n",
        "def kf(x):\n",
        "  x = np.array(x)\n",
        "  return stats.kurtosis(x)/(np.mean(x**2)**2)\n",
        "\n",
        "class StatisticalTime(TransformerMixin):\n",
        "  def __init__(self):\n",
        "    pass\n",
        "  def fit(self, X, y=None):\n",
        "    return self\n",
        "  def transform(self, X, y=None):\n",
        "    if X.shape[2] == 1:\n",
        "      return np.array([[rms(x), sra(x), stats.kurtosis(x), stats.skew(x), ppv(x), cf(x), ifa(x), mf(x), sf(x), kf(x)] for x in X[:,:,0]])\n",
        "    de = np.array([[rms(x), sra(x), stats.kurtosis(x), stats.skew(x), ppv(x), cf(x), ifa(x), mf(x), sf(x), kf(x)] for x in X[:,:,0]])\n",
        "    fe = np.array([[rms(x), sra(x), stats.kurtosis(x), stats.skew(x), ppv(x), cf(x), ifa(x), mf(x), sf(x), kf(x)] for x in X[:,:,1]])\n",
        "    return np.concatenate((de,fe),axis=1)\n",
        "  \n",
        "class StatisticalFrequency(TransformerMixin):\n",
        "  def __init__(self):\n",
        "    pass\n",
        "  def fit(self, X, y=None):\n",
        "    return self\n",
        "  def transform(self, X, y=None):\n",
        "    if X.shape[2] == 1:\n",
        "      sig = []\n",
        "      for x in X[:,:,0]:\n",
        "        fx = np.absolute(np.fft.fft(x))\n",
        "        fc = np.mean(fx)\n",
        "        sig.append([fc, rms(fx), rms(fx-fc)])\n",
        "      return np.array(sig)\n",
        "    de = []\n",
        "    for x in X[:,:,0]:\n",
        "      fx = np.absolute(np.fft.fft(x))\n",
        "      fc = np.mean(fx)\n",
        "      de.append([fc, rms(fx), rms(fx-fc)])\n",
        "    de = np.array(de)\n",
        "    fe = []\n",
        "    for x in X[:,:,1]:\n",
        "      fx = np.absolute(np.fft.fft(x))\n",
        "      fc = np.mean(fx)\n",
        "      fe.append([fc, rms(fx), rms(fx-fc)])\n",
        "    fe = np.array(fe)\n",
        "    return np.concatenate((de,fe),axis=1)\n",
        "\n",
        "class Statistical(TransformerMixin):\n",
        "  def __init__(self):\n",
        "    pass\n",
        "  def fit(self, X, y=None):\n",
        "    return self\n",
        "  def transform(self, X, y=None):\n",
        "    st = StatisticalTime()\n",
        "    stfeats = st.transform(X)\n",
        "    sf = StatisticalFrequency()\n",
        "    sffeats = sf.transform(X)\n",
        "    return np.concatenate((stfeats,sffeats),axis=1)\n",
        "   \n",
        "import pywt\n",
        "class WaveletPackage(TransformerMixin):\n",
        "  def __init__(self):\n",
        "    pass\n",
        "  def fit(self, X, y=None):\n",
        "    return self\n",
        "  def transform(self, X, y=None):\n",
        "    def Energy(coeffs, k):\n",
        "      return np.sqrt(np.sum(np.array(coeffs[-k]) ** 2)) / len(coeffs[-k])\n",
        "    def getEnergy(wp):\n",
        "      coefs = np.asarray([n.data for n in wp.get_leaf_nodes(True)])\n",
        "      return np.asarray([Energy(coefs,i) for i in range(2**wp.maxlevel)])\n",
        "    if X.shape[2] == 1:\n",
        "      return np.array([getEnergy(pywt.WaveletPacket(data=x, wavelet='db4', mode='symmetric', maxlevel=4)) for x in X[:,:,0]])\n",
        "    de = np.array([getEnergy(pywt.WaveletPacket(data=x, wavelet='db4', mode='symmetric', maxlevel=4)) for x in X[:,:,0]])\n",
        "    fe = np.array([getEnergy(pywt.WaveletPacket(data=x, wavelet='db4', mode='symmetric', maxlevel=4)) for x in X[:,:,1]])\n",
        "    return np.concatenate((de,fe),axis=1)\n",
        "\n",
        "class Heterogeneous(TransformerMixin):\n",
        "  def __init__(self):\n",
        "    pass\n",
        "  def fit(self, X, y=None):\n",
        "    return self\n",
        "  def transform(self, X, y=None):\n",
        "    st = StatisticalTime()\n",
        "    stfeats = st.transform(X)\n",
        "    sf = StatisticalFrequency()\n",
        "    sffeats = sf.transform(X)\n",
        "    wp = WaveletPackage()\n",
        "    wpfeats = wp.transform(X)\n",
        "    return np.concatenate((stfeats,sffeats,wpfeats),axis=1)\n"
      ],
      "execution_count": 0,
      "outputs": []
    },
    {
      "cell_type": "markdown",
      "metadata": {
        "id": "hPLjBiao2GIK",
        "colab_type": "text"
      },
      "source": [
        "#Define classification models"
      ]
    },
    {
      "cell_type": "code",
      "metadata": {
        "id": "UDqQNYorpVwn",
        "colab_type": "code",
        "colab": {}
      },
      "source": [
        "from sklearn.pipeline import Pipeline\n",
        "from sklearn.preprocessing import StandardScaler"
      ],
      "execution_count": 0,
      "outputs": []
    },
    {
      "cell_type": "markdown",
      "metadata": {
        "id": "wEidIfImpT9N",
        "colab_type": "text"
      },
      "source": [
        "K-NN"
      ]
    },
    {
      "cell_type": "code",
      "metadata": {
        "id": "zDixEMybpMEX",
        "colab_type": "code",
        "colab": {}
      },
      "source": [
        "from sklearn.neighbors import KNeighborsClassifier\n",
        "from sklearn.model_selection import GridSearchCV\n",
        "\n",
        "param_dist = {\"n_neighbors\": [1, 3, 5, 7, 9, 11, 13, 15]}\n",
        "knn = Pipeline([('FeatureExtraction', Heterogeneous()),\n",
        "                ('scaler', StandardScaler()),\n",
        "                ('KNN', GridSearchCV(KNeighborsClassifier(),\n",
        "                                     param_grid=param_dist))])"
      ],
      "execution_count": 0,
      "outputs": []
    },
    {
      "cell_type": "markdown",
      "metadata": {
        "id": "sb2OZVfX-SqJ",
        "colab_type": "text"
      },
      "source": [
        "SVM"
      ]
    },
    {
      "cell_type": "code",
      "metadata": {
        "id": "0roZGnjN-VM3",
        "colab_type": "code",
        "colab": {}
      },
      "source": [
        "from sklearn.svm import SVC\n",
        "param_dist = {'SVM__C':[0.001, 0.01, 0.1, 1, 10], 'SVM__gamma':[0.001, 0.01, 0.1, 1]}\n",
        "svm = Pipeline([('FeatureExtraction', Heterogeneous()),\n",
        "                ('scaler', StandardScaler()),\n",
        "                ('SVM', GridSearchCV(SVC(),\n",
        "                                     param_grid=param_dist))])"
      ],
      "execution_count": 0,
      "outputs": []
    },
    {
      "cell_type": "markdown",
      "metadata": {
        "id": "OnrtQ_8bpfR_",
        "colab_type": "text"
      },
      "source": [
        "Random Forest"
      ]
    },
    {
      "cell_type": "code",
      "metadata": {
        "id": "Wh1FVNIephsb",
        "colab_type": "code",
        "colab": {}
      },
      "source": [
        "from sklearn.ensemble import RandomForestClassifier\n",
        "from sklearn.model_selection import GridSearchCV\n",
        "\n",
        "param_dist = {\"n_estimators\": [10, 20, 50],\n",
        "              \"max_features\": [8, None]}\n",
        "rf = Pipeline([('FeatureExtraction', Heterogeneous()),\n",
        "               ('scaler', StandardScaler()),\n",
        "               ('RF', GridSearchCV(RandomForestClassifier(),\n",
        "                                   param_grid=param_dist))])"
      ],
      "execution_count": 0,
      "outputs": []
    },
    {
      "cell_type": "markdown",
      "metadata": {
        "id": "9WNk03kXpmDq",
        "colab_type": "text"
      },
      "source": [
        "Artificial Neural Network - Conv1D"
      ]
    },
    {
      "cell_type": "code",
      "metadata": {
        "id": "2zp9rCYLc3Yq",
        "colab_type": "code",
        "colab": {}
      },
      "source": [
        "from keras import backend as K\n",
        "def f1_score_macro(y_true,y_pred):\n",
        "    def recall(y_true, y_pred):\n",
        "        true_positives = K.sum(K.round(K.clip(y_true * y_pred, 0, 1)))\n",
        "        possible_positives = K.sum(K.round(K.clip(y_true, 0, 1)))\n",
        "        recall = true_positives / (possible_positives + K.epsilon())\n",
        "        return recall\n",
        "    def precision(y_true, y_pred):\n",
        "        true_positives = K.sum(K.round(K.clip(y_true * y_pred, 0, 1)))\n",
        "        predicted_positives = K.sum(K.round(K.clip(y_pred, 0, 1)))\n",
        "        precision = true_positives / (predicted_positives + K.epsilon())\n",
        "        return precision\n",
        "    precision = precision(y_true, y_pred)\n",
        "    recall = recall(y_true, y_pred)\n",
        "    return 2*((precision*recall)/(precision+recall+K.epsilon()))\n",
        "\n",
        "from keras import layers\n",
        "from keras import Input\n",
        "from keras.models import Model\n",
        "from keras.callbacks import EarlyStopping,ReduceLROnPlateau\n",
        "from keras.utils import to_categorical\n",
        "\n",
        "from sklearn.base import BaseEstimator, ClassifierMixin\n",
        "from sklearn.utils import shuffle\n",
        "class ANNConv1D(BaseEstimator, ClassifierMixin):\n",
        "  def __init__(self, shape=xn_0.shape, filters=4, kernel_size=7):\n",
        "    self.shape = shape\n",
        "    self.filters = filters\n",
        "    self.kernel_size = kernel_size\n",
        "  def fit(self, X, y=None):\n",
        "    y_cat = to_categorical(y)\n",
        "    signal_input = Input(shape=(self.shape[1],self.shape[-1]), dtype='float32', name='signal')\n",
        "    x = layers.Conv1D(self.filters, self.kernel_size, activation='relu', name='conv1d_1')(signal_input)\n",
        "    x = layers.MaxPooling1D(self.kernel_size, name='max_pooling1d_1')(x)\n",
        "    x = layers.Flatten(name='flatten')(x)\n",
        "    condition_output = layers.Dense(len(labels_dict),activation='softmax',name='condition')(x)\n",
        "    self.model = Model(signal_input, condition_output) \n",
        "    self.model.compile(optimizer='rmsprop',\n",
        "                       loss='mean_squared_error', \n",
        "                       metrics=['accuracy',f1_score_macro])\n",
        "    verbose = 0\n",
        "    if debug:\n",
        "      verbose = 1      \n",
        "    self.history = self.model.fit(X ,y_cat, epochs=100, \n",
        "                                  validation_split=0.2,\n",
        "                                  callbacks=[EarlyStopping(patience=3),\n",
        "                                             ReduceLROnPlateau()],\n",
        "                                  verbose=verbose)\n",
        "    return self\n",
        "  def predict(self, X, y=None):\n",
        "    return np.argmax(self.model.predict(X), axis=1)\n",
        "\n",
        "conv1d = ANNConv1D(xn_0.shape)\n",
        "from sklearn.model_selection import StratifiedShuffleSplit\n",
        "param_dist = {\"filters\": [16, 32, 64],\n",
        "              \"kernel_size\": [32, 64, 128]}\n",
        "conv1d = GridSearchCV(conv1d, param_grid=param_dist, \n",
        "                      cv=StratifiedShuffleSplit(n_splits=1, test_size=0.1))"
      ],
      "execution_count": 0,
      "outputs": []
    },
    {
      "cell_type": "markdown",
      "metadata": {
        "id": "b0SbPMoPptUG",
        "colab_type": "text"
      },
      "source": [
        "List of classification methods"
      ]
    },
    {
      "cell_type": "code",
      "metadata": {
        "id": "pGd5vWXAp0Aq",
        "colab_type": "code",
        "colab": {}
      },
      "source": [
        "clfs = [(\"K-NNeighbors\", knn),\n",
        "        (\"SVM\", svm),\n",
        "        (\"RandomForest\", rf),\n",
        "        (\"ANN-Conv1d\", conv1d)]"
      ],
      "execution_count": 0,
      "outputs": []
    },
    {
      "cell_type": "markdown",
      "metadata": {
        "id": "AA7KLli30vu_",
        "colab_type": "text"
      },
      "source": [
        "#Perform experiments."
      ]
    },
    {
      "cell_type": "code",
      "metadata": {
        "id": "IAXsTIoN0T6w",
        "colab_type": "code",
        "colab": {}
      },
      "source": [
        "from sklearn.model_selection import RepeatedStratifiedKFold\n",
        "from sklearn.metrics import f1_score,accuracy_score\n",
        "import warnings\n",
        "warnings.simplefilter(action='ignore', category=FutureWarning)\n",
        "from sklearn.exceptions import ConvergenceWarning\n",
        "warnings.simplefilter(action='ignore', category=ConvergenceWarning)\n",
        "from sklearn.exceptions import UndefinedMetricWarning\n",
        "warnings.simplefilter(action='ignore', category=UndefinedMetricWarning)\n",
        "#Confunsion Matrix Configuration\n",
        "genconfmat = True\n",
        "if genconfmat:\n",
        "  class_names = []\n",
        "  for label in labels_dict.keys():\n",
        "    class_names.append(label)\n",
        "  figprop = np.linspace(1,0.5,25)\n",
        "  tam = len(class_names)*figprop[len(class_names)]\n",
        "\n",
        "results = {}\n",
        "models = {}\n",
        "nrounds = 1 if debug else 5"
      ],
      "execution_count": 0,
      "outputs": []
    },
    {
      "cell_type": "markdown",
      "metadata": {
        "id": "jTUqvMfR53OX",
        "colab_type": "text"
      },
      "source": [
        "##kfold Experiments"
      ]
    },
    {
      "cell_type": "code",
      "metadata": {
        "id": "UU0B-KF-W0eV",
        "colab_type": "code",
        "outputId": "9fd9ffb2-a9e2-4b35-9146-09261436bd26",
        "colab": {
          "base_uri": "https://localhost:8080/",
          "height": 1000
        }
      },
      "source": [
        "X,y = None,None\n",
        "for load in range(4):\n",
        "  X,y = concatenate_datasets(X,y,eval('xn_'+str(load)),eval('yn_'+str(load)))\n",
        "for severity in severities: \n",
        "  X,y = concatenate_datasets(X,y,eval('x'+str(severity)),eval('y'+str(severity)))\n",
        "rskf = RepeatedStratifiedKFold(n_splits=len(severities), n_repeats=nrounds,\n",
        "                               random_state=36851234)\n",
        "fold = 0\n",
        "count_round = 0\n",
        "\n",
        "results['kfold'] = {}\n",
        "models['kfold'] = {}\n",
        "y_test_round = None\n",
        "y_pred_round = {}\n",
        "\n",
        "print(\"k-Fold\")\n",
        "for train_index, test_index in rskf.split(X, y):\n",
        "  print(\"{}/{}\".format(fold+1,rskf.get_n_splits()//nrounds), end=\" x \")\n",
        "  x_train, x_test = X[train_index], X[test_index]\n",
        "  y_train, y_test = y[train_index], y[test_index]\n",
        "  if y_test_round is None:\n",
        "    y_test_round = np.copy(y_test)\n",
        "  else:\n",
        "    y_test_round = np.concatenate((y_test_round,y_test))\n",
        "  j = count_round//(rskf.get_n_splits()//nrounds)\n",
        "  count_round += 1\n",
        "  print(\"{}/{}\".format(j+1,nrounds))\n",
        "  for clfname,model in clfs:\n",
        "    print(clfname, end=\":\\t\")\n",
        "    if not clfname in results['kfold']:\n",
        "      results['kfold'][clfname] = []\n",
        "    history = model.fit(x_train ,y_train)\n",
        "    y_pred = model.predict(x_test)\n",
        "    if not clfname in y_pred_round:\n",
        "      y_pred_round[clfname] = None\n",
        "    if y_pred_round[clfname] is None:\n",
        "      y_pred_round[clfname] = np.copy(y_pred)\n",
        "    else:\n",
        "      y_pred_round[clfname] = np.concatenate((y_pred_round[clfname],y_pred))\n",
        "    if not clfname+str(fold) in models['kfold']:\n",
        "      models['kfold'][clfname+str(fold)] = model\n",
        "    results['kfold'][clfname].append([accuracy_score(y_test,y_pred),f1_score(y_test,y_pred,average='macro')])\n",
        "    print(results['kfold'][clfname][-1])\n",
        "    if genconfmat:\n",
        "      cnf_matrix = confusion_matrix(y_test, y_pred)\n",
        "      print(cnf_matrix)\n",
        "      plt.figure(figsize=(tam,tam))\n",
        "      plot_confusion_matrix(cnf_matrix, classes=class_names, title=clfname+' - Fold '+str(fold+1)+' - Round '+str(j+1), normalize=False)\n",
        "      plt.savefig('cnfmatrix_kfold'+clfname+str(fold)+'round'+str(j)+'.png')\n",
        "      plt.show()\n",
        "  if fold >= (rskf.get_n_splits()//nrounds)-1:\n",
        "    fold = 0\n",
        "    for clfname,model in clfs:\n",
        "      print([accuracy_score(y_test_round, y_pred_round[clfname]),\n",
        "             f1_score(y_test_round, y_pred_round[clfname],average='macro')])\n",
        "      if genconfmat:\n",
        "        cnf_matrix = confusion_matrix(y_test_round, y_pred_round[clfname])\n",
        "        print(cnf_matrix)\n",
        "        plt.figure(figsize=(tam,tam))\n",
        "        plot_confusion_matrix(cnf_matrix, classes=class_names, title=clfname+' - Round '+str(j+1), normalize=False)\n",
        "        plt.savefig('cnfmatrix_kfold'+clfname+'_round'+str(j+1)+'.png')        \n",
        "        plt.show()\n",
        "      y_pred_round[clfname] = None\n",
        "    y_test_round = None\n",
        "  else:\n",
        "    fold += 1\n",
        "  if debug:\n",
        "    break"
      ],
      "execution_count": 54,
      "outputs": [
        {
          "output_type": "stream",
          "text": [
            "k-Fold\n",
            "1/4 x 1/5\n",
            "K-NNeighbors:\t[0.9756376094404263, 0.975432654957255]\n",
            "[[1657    0    0    0]\n",
            " [   0 1620   19   20]\n",
            " [   3   35 1579   42]\n",
            " [   0   44   29 2833]]\n",
            "Confusion matrix, without normalization\n"
          ],
          "name": "stdout"
        },
        {
          "output_type": "display_data",
          "data": {
            "image/png": "[encoded data removed]",
            "text/plain": [
              "<Figure size 264x264 with 1 Axes>"
            ]
          },
          "metadata": {
            "tags": []
          }
        },
        {
          "output_type": "stream",
          "text": [
            "SVM:\t[0.9427737596751681, 0.9435383546314442]\n",
            "[[1657    0    0    0]\n",
            " [   0 1579   34   46]\n",
            " [   0   41 1423  195]\n",
            " [   0   57   78 2771]]\n",
            "Confusion matrix, without normalization\n"
          ],
          "name": "stdout"
        },
        {
          "output_type": "display_data",
          "data": {
            "image/png": "[encoded data removed]",
            "text/plain": [
              "<Figure size 264x264 with 1 Axes>"
            ]
          },
          "metadata": {
            "tags": []
          }
        },
        {
          "output_type": "stream",
          "text": [
            "RandomForest:\t"
          ],
          "name": "stdout"
        },
        {
          "output_type": "error",
          "ename": "KeyboardInterrupt",
          "evalue": "ignored",
          "traceback": [
            "\u001b[0;31m---------------------------------------------------------------------------\u001b[0m",
            "\u001b[0;31mKeyboardInterrupt\u001b[0m                         Traceback (most recent call last)",
            "\u001b[0;32m<ipython-input-54-89d1af9741f5>\u001b[0m in \u001b[0;36m<module>\u001b[0;34m()\u001b[0m\n\u001b[1;32m     30\u001b[0m     \u001b[0;32mif\u001b[0m \u001b[0;32mnot\u001b[0m \u001b[0mclfname\u001b[0m \u001b[0;32min\u001b[0m \u001b[0mresults\u001b[0m\u001b[0;34m[\u001b[0m\u001b[0;34m'kfold'\u001b[0m\u001b[0;34m]\u001b[0m\u001b[0;34m:\u001b[0m\u001b[0;34m\u001b[0m\u001b[0;34m\u001b[0m\u001b[0m\n\u001b[1;32m     31\u001b[0m       \u001b[0mresults\u001b[0m\u001b[0;34m[\u001b[0m\u001b[0;34m'kfold'\u001b[0m\u001b[0;34m]\u001b[0m\u001b[0;34m[\u001b[0m\u001b[0mclfname\u001b[0m\u001b[0;34m]\u001b[0m \u001b[0;34m=\u001b[0m \u001b[0;34m[\u001b[0m\u001b[0;34m]\u001b[0m\u001b[0;34m\u001b[0m\u001b[0;34m\u001b[0m\u001b[0m\n\u001b[0;32m---> 32\u001b[0;31m     \u001b[0mhistory\u001b[0m \u001b[0;34m=\u001b[0m \u001b[0mmodel\u001b[0m\u001b[0;34m.\u001b[0m\u001b[0mfit\u001b[0m\u001b[0;34m(\u001b[0m\u001b[0mx_train\u001b[0m \u001b[0;34m,\u001b[0m\u001b[0my_train\u001b[0m\u001b[0;34m)\u001b[0m\u001b[0;34m\u001b[0m\u001b[0;34m\u001b[0m\u001b[0m\n\u001b[0m\u001b[1;32m     33\u001b[0m     \u001b[0my_pred\u001b[0m \u001b[0;34m=\u001b[0m \u001b[0mmodel\u001b[0m\u001b[0;34m.\u001b[0m\u001b[0mpredict\u001b[0m\u001b[0;34m(\u001b[0m\u001b[0mx_test\u001b[0m\u001b[0;34m)\u001b[0m\u001b[0;34m\u001b[0m\u001b[0;34m\u001b[0m\u001b[0m\n\u001b[1;32m     34\u001b[0m     \u001b[0;32mif\u001b[0m \u001b[0;32mnot\u001b[0m \u001b[0mclfname\u001b[0m \u001b[0;32min\u001b[0m \u001b[0my_pred_round\u001b[0m\u001b[0;34m:\u001b[0m\u001b[0;34m\u001b[0m\u001b[0;34m\u001b[0m\u001b[0m\n",
            "\u001b[0;32m/usr/local/lib/python3.6/dist-packages/sklearn/pipeline.py\u001b[0m in \u001b[0;36mfit\u001b[0;34m(self, X, y, **fit_params)\u001b[0m\n\u001b[1;32m    354\u001b[0m                                  self._log_message(len(self.steps) - 1)):\n\u001b[1;32m    355\u001b[0m             \u001b[0;32mif\u001b[0m \u001b[0mself\u001b[0m\u001b[0;34m.\u001b[0m\u001b[0m_final_estimator\u001b[0m \u001b[0;34m!=\u001b[0m \u001b[0;34m'passthrough'\u001b[0m\u001b[0;34m:\u001b[0m\u001b[0;34m\u001b[0m\u001b[0;34m\u001b[0m\u001b[0m\n\u001b[0;32m--> 356\u001b[0;31m                 \u001b[0mself\u001b[0m\u001b[0;34m.\u001b[0m\u001b[0m_final_estimator\u001b[0m\u001b[0;34m.\u001b[0m\u001b[0mfit\u001b[0m\u001b[0;34m(\u001b[0m\u001b[0mXt\u001b[0m\u001b[0;34m,\u001b[0m \u001b[0my\u001b[0m\u001b[0;34m,\u001b[0m \u001b[0;34m**\u001b[0m\u001b[0mfit_params\u001b[0m\u001b[0;34m)\u001b[0m\u001b[0;34m\u001b[0m\u001b[0;34m\u001b[0m\u001b[0m\n\u001b[0m\u001b[1;32m    357\u001b[0m         \u001b[0;32mreturn\u001b[0m \u001b[0mself\u001b[0m\u001b[0;34m\u001b[0m\u001b[0;34m\u001b[0m\u001b[0m\n\u001b[1;32m    358\u001b[0m \u001b[0;34m\u001b[0m\u001b[0m\n",
            "\u001b[0;32m/usr/local/lib/python3.6/dist-packages/sklearn/model_selection/_search.py\u001b[0m in \u001b[0;36mfit\u001b[0;34m(self, X, y, groups, **fit_params)\u001b[0m\n\u001b[1;32m    686\u001b[0m                 \u001b[0;32mreturn\u001b[0m \u001b[0mresults\u001b[0m\u001b[0;34m\u001b[0m\u001b[0;34m\u001b[0m\u001b[0m\n\u001b[1;32m    687\u001b[0m \u001b[0;34m\u001b[0m\u001b[0m\n\u001b[0;32m--> 688\u001b[0;31m             \u001b[0mself\u001b[0m\u001b[0;34m.\u001b[0m\u001b[0m_run_search\u001b[0m\u001b[0;34m(\u001b[0m\u001b[0mevaluate_candidates\u001b[0m\u001b[0;34m)\u001b[0m\u001b[0;34m\u001b[0m\u001b[0;34m\u001b[0m\u001b[0m\n\u001b[0m\u001b[1;32m    689\u001b[0m \u001b[0;34m\u001b[0m\u001b[0m\n\u001b[1;32m    690\u001b[0m         \u001b[0;31m# For multi-metric evaluation, store the best_index_, best_params_ and\u001b[0m\u001b[0;34m\u001b[0m\u001b[0;34m\u001b[0m\u001b[0;34m\u001b[0m\u001b[0m\n",
            "\u001b[0;32m/usr/local/lib/python3.6/dist-packages/sklearn/model_selection/_search.py\u001b[0m in \u001b[0;36m_run_search\u001b[0;34m(self, evaluate_candidates)\u001b[0m\n\u001b[1;32m   1147\u001b[0m     \u001b[0;32mdef\u001b[0m \u001b[0m_run_search\u001b[0m\u001b[0;34m(\u001b[0m\u001b[0mself\u001b[0m\u001b[0;34m,\u001b[0m \u001b[0mevaluate_candidates\u001b[0m\u001b[0;34m)\u001b[0m\u001b[0;34m:\u001b[0m\u001b[0;34m\u001b[0m\u001b[0;34m\u001b[0m\u001b[0m\n\u001b[1;32m   1148\u001b[0m         \u001b[0;34m\"\"\"Search all candidates in param_grid\"\"\"\u001b[0m\u001b[0;34m\u001b[0m\u001b[0;34m\u001b[0m\u001b[0m\n\u001b[0;32m-> 1149\u001b[0;31m         \u001b[0mevaluate_candidates\u001b[0m\u001b[0;34m(\u001b[0m\u001b[0mParameterGrid\u001b[0m\u001b[0;34m(\u001b[0m\u001b[0mself\u001b[0m\u001b[0;34m.\u001b[0m\u001b[0mparam_grid\u001b[0m\u001b[0;34m)\u001b[0m\u001b[0;34m)\u001b[0m\u001b[0;34m\u001b[0m\u001b[0;34m\u001b[0m\u001b[0m\n\u001b[0m\u001b[1;32m   1150\u001b[0m \u001b[0;34m\u001b[0m\u001b[0m\n\u001b[1;32m   1151\u001b[0m \u001b[0;34m\u001b[0m\u001b[0m\n",
            "\u001b[0;32m/usr/local/lib/python3.6/dist-packages/sklearn/model_selection/_search.py\u001b[0m in \u001b[0;36mevaluate_candidates\u001b[0;34m(candidate_params)\u001b[0m\n\u001b[1;32m    665\u001b[0m                                \u001b[0;32mfor\u001b[0m \u001b[0mparameters\u001b[0m\u001b[0;34m,\u001b[0m \u001b[0;34m(\u001b[0m\u001b[0mtrain\u001b[0m\u001b[0;34m,\u001b[0m \u001b[0mtest\u001b[0m\u001b[0;34m)\u001b[0m\u001b[0;34m\u001b[0m\u001b[0;34m\u001b[0m\u001b[0m\n\u001b[1;32m    666\u001b[0m                                in product(candidate_params,\n\u001b[0;32m--> 667\u001b[0;31m                                           cv.split(X, y, groups)))\n\u001b[0m\u001b[1;32m    668\u001b[0m \u001b[0;34m\u001b[0m\u001b[0m\n\u001b[1;32m    669\u001b[0m                 \u001b[0;32mif\u001b[0m \u001b[0mlen\u001b[0m\u001b[0;34m(\u001b[0m\u001b[0mout\u001b[0m\u001b[0;34m)\u001b[0m \u001b[0;34m<\u001b[0m \u001b[0;36m1\u001b[0m\u001b[0;34m:\u001b[0m\u001b[0;34m\u001b[0m\u001b[0;34m\u001b[0m\u001b[0m\n",
            "\u001b[0;32m/usr/local/lib/python3.6/dist-packages/joblib/parallel.py\u001b[0m in \u001b[0;36m__call__\u001b[0;34m(self, iterable)\u001b[0m\n\u001b[1;32m    922\u001b[0m                 \u001b[0mself\u001b[0m\u001b[0;34m.\u001b[0m\u001b[0m_iterating\u001b[0m \u001b[0;34m=\u001b[0m \u001b[0mself\u001b[0m\u001b[0;34m.\u001b[0m\u001b[0m_original_iterator\u001b[0m \u001b[0;32mis\u001b[0m \u001b[0;32mnot\u001b[0m \u001b[0;32mNone\u001b[0m\u001b[0;34m\u001b[0m\u001b[0;34m\u001b[0m\u001b[0m\n\u001b[1;32m    923\u001b[0m \u001b[0;34m\u001b[0m\u001b[0m\n\u001b[0;32m--> 924\u001b[0;31m             \u001b[0;32mwhile\u001b[0m \u001b[0mself\u001b[0m\u001b[0;34m.\u001b[0m\u001b[0mdispatch_one_batch\u001b[0m\u001b[0;34m(\u001b[0m\u001b[0miterator\u001b[0m\u001b[0;34m)\u001b[0m\u001b[0;34m:\u001b[0m\u001b[0;34m\u001b[0m\u001b[0;34m\u001b[0m\u001b[0m\n\u001b[0m\u001b[1;32m    925\u001b[0m                 \u001b[0;32mpass\u001b[0m\u001b[0;34m\u001b[0m\u001b[0;34m\u001b[0m\u001b[0m\n\u001b[1;32m    926\u001b[0m \u001b[0;34m\u001b[0m\u001b[0m\n",
            "\u001b[0;32m/usr/local/lib/python3.6/dist-packages/joblib/parallel.py\u001b[0m in \u001b[0;36mdispatch_one_batch\u001b[0;34m(self, iterator)\u001b[0m\n\u001b[1;32m    757\u001b[0m                 \u001b[0;32mreturn\u001b[0m \u001b[0;32mFalse\u001b[0m\u001b[0;34m\u001b[0m\u001b[0;34m\u001b[0m\u001b[0m\n\u001b[1;32m    758\u001b[0m             \u001b[0;32melse\u001b[0m\u001b[0;34m:\u001b[0m\u001b[0;34m\u001b[0m\u001b[0;34m\u001b[0m\u001b[0m\n\u001b[0;32m--> 759\u001b[0;31m                 \u001b[0mself\u001b[0m\u001b[0;34m.\u001b[0m\u001b[0m_dispatch\u001b[0m\u001b[0;34m(\u001b[0m\u001b[0mtasks\u001b[0m\u001b[0;34m)\u001b[0m\u001b[0;34m\u001b[0m\u001b[0;34m\u001b[0m\u001b[0m\n\u001b[0m\u001b[1;32m    760\u001b[0m                 \u001b[0;32mreturn\u001b[0m \u001b[0;32mTrue\u001b[0m\u001b[0;34m\u001b[0m\u001b[0;34m\u001b[0m\u001b[0m\n\u001b[1;32m    761\u001b[0m \u001b[0;34m\u001b[0m\u001b[0m\n",
            "\u001b[0;32m/usr/local/lib/python3.6/dist-packages/joblib/parallel.py\u001b[0m in \u001b[0;36m_dispatch\u001b[0;34m(self, batch)\u001b[0m\n\u001b[1;32m    714\u001b[0m         \u001b[0;32mwith\u001b[0m \u001b[0mself\u001b[0m\u001b[0;34m.\u001b[0m\u001b[0m_lock\u001b[0m\u001b[0;34m:\u001b[0m\u001b[0;34m\u001b[0m\u001b[0;34m\u001b[0m\u001b[0m\n\u001b[1;32m    715\u001b[0m             \u001b[0mjob_idx\u001b[0m \u001b[0;34m=\u001b[0m \u001b[0mlen\u001b[0m\u001b[0;34m(\u001b[0m\u001b[0mself\u001b[0m\u001b[0;34m.\u001b[0m\u001b[0m_jobs\u001b[0m\u001b[0;34m)\u001b[0m\u001b[0;34m\u001b[0m\u001b[0;34m\u001b[0m\u001b[0m\n\u001b[0;32m--> 716\u001b[0;31m             \u001b[0mjob\u001b[0m \u001b[0;34m=\u001b[0m \u001b[0mself\u001b[0m\u001b[0;34m.\u001b[0m\u001b[0m_backend\u001b[0m\u001b[0;34m.\u001b[0m\u001b[0mapply_async\u001b[0m\u001b[0;34m(\u001b[0m\u001b[0mbatch\u001b[0m\u001b[0;34m,\u001b[0m \u001b[0mcallback\u001b[0m\u001b[0;34m=\u001b[0m\u001b[0mcb\u001b[0m\u001b[0;34m)\u001b[0m\u001b[0;34m\u001b[0m\u001b[0;34m\u001b[0m\u001b[0m\n\u001b[0m\u001b[1;32m    717\u001b[0m             \u001b[0;31m# A job can complete so quickly than its callback is\u001b[0m\u001b[0;34m\u001b[0m\u001b[0;34m\u001b[0m\u001b[0;34m\u001b[0m\u001b[0m\n\u001b[1;32m    718\u001b[0m             \u001b[0;31m# called before we get here, causing self._jobs to\u001b[0m\u001b[0;34m\u001b[0m\u001b[0;34m\u001b[0m\u001b[0;34m\u001b[0m\u001b[0m\n",
            "\u001b[0;32m/usr/local/lib/python3.6/dist-packages/joblib/_parallel_backends.py\u001b[0m in \u001b[0;36mapply_async\u001b[0;34m(self, func, callback)\u001b[0m\n\u001b[1;32m    180\u001b[0m     \u001b[0;32mdef\u001b[0m \u001b[0mapply_async\u001b[0m\u001b[0;34m(\u001b[0m\u001b[0mself\u001b[0m\u001b[0;34m,\u001b[0m \u001b[0mfunc\u001b[0m\u001b[0;34m,\u001b[0m \u001b[0mcallback\u001b[0m\u001b[0;34m=\u001b[0m\u001b[0;32mNone\u001b[0m\u001b[0;34m)\u001b[0m\u001b[0;34m:\u001b[0m\u001b[0;34m\u001b[0m\u001b[0;34m\u001b[0m\u001b[0m\n\u001b[1;32m    181\u001b[0m         \u001b[0;34m\"\"\"Schedule a func to be run\"\"\"\u001b[0m\u001b[0;34m\u001b[0m\u001b[0;34m\u001b[0m\u001b[0m\n\u001b[0;32m--> 182\u001b[0;31m         \u001b[0mresult\u001b[0m \u001b[0;34m=\u001b[0m \u001b[0mImmediateResult\u001b[0m\u001b[0;34m(\u001b[0m\u001b[0mfunc\u001b[0m\u001b[0;34m)\u001b[0m\u001b[0;34m\u001b[0m\u001b[0;34m\u001b[0m\u001b[0m\n\u001b[0m\u001b[1;32m    183\u001b[0m         \u001b[0;32mif\u001b[0m \u001b[0mcallback\u001b[0m\u001b[0;34m:\u001b[0m\u001b[0;34m\u001b[0m\u001b[0;34m\u001b[0m\u001b[0m\n\u001b[1;32m    184\u001b[0m             \u001b[0mcallback\u001b[0m\u001b[0;34m(\u001b[0m\u001b[0mresult\u001b[0m\u001b[0;34m)\u001b[0m\u001b[0;34m\u001b[0m\u001b[0;34m\u001b[0m\u001b[0m\n",
            "\u001b[0;32m/usr/local/lib/python3.6/dist-packages/joblib/_parallel_backends.py\u001b[0m in \u001b[0;36m__init__\u001b[0;34m(self, batch)\u001b[0m\n\u001b[1;32m    547\u001b[0m         \u001b[0;31m# Don't delay the application, to avoid keeping the input\u001b[0m\u001b[0;34m\u001b[0m\u001b[0;34m\u001b[0m\u001b[0;34m\u001b[0m\u001b[0m\n\u001b[1;32m    548\u001b[0m         \u001b[0;31m# arguments in memory\u001b[0m\u001b[0;34m\u001b[0m\u001b[0;34m\u001b[0m\u001b[0;34m\u001b[0m\u001b[0m\n\u001b[0;32m--> 549\u001b[0;31m         \u001b[0mself\u001b[0m\u001b[0;34m.\u001b[0m\u001b[0mresults\u001b[0m \u001b[0;34m=\u001b[0m \u001b[0mbatch\u001b[0m\u001b[0;34m(\u001b[0m\u001b[0;34m)\u001b[0m\u001b[0;34m\u001b[0m\u001b[0;34m\u001b[0m\u001b[0m\n\u001b[0m\u001b[1;32m    550\u001b[0m \u001b[0;34m\u001b[0m\u001b[0m\n\u001b[1;32m    551\u001b[0m     \u001b[0;32mdef\u001b[0m \u001b[0mget\u001b[0m\u001b[0;34m(\u001b[0m\u001b[0mself\u001b[0m\u001b[0;34m)\u001b[0m\u001b[0;34m:\u001b[0m\u001b[0;34m\u001b[0m\u001b[0;34m\u001b[0m\u001b[0m\n",
            "\u001b[0;32m/usr/local/lib/python3.6/dist-packages/joblib/parallel.py\u001b[0m in \u001b[0;36m__call__\u001b[0;34m(self)\u001b[0m\n\u001b[1;32m    223\u001b[0m         \u001b[0;32mwith\u001b[0m \u001b[0mparallel_backend\u001b[0m\u001b[0;34m(\u001b[0m\u001b[0mself\u001b[0m\u001b[0;34m.\u001b[0m\u001b[0m_backend\u001b[0m\u001b[0;34m,\u001b[0m \u001b[0mn_jobs\u001b[0m\u001b[0;34m=\u001b[0m\u001b[0mself\u001b[0m\u001b[0;34m.\u001b[0m\u001b[0m_n_jobs\u001b[0m\u001b[0;34m)\u001b[0m\u001b[0;34m:\u001b[0m\u001b[0;34m\u001b[0m\u001b[0;34m\u001b[0m\u001b[0m\n\u001b[1;32m    224\u001b[0m             return [func(*args, **kwargs)\n\u001b[0;32m--> 225\u001b[0;31m                     for func, args, kwargs in self.items]\n\u001b[0m\u001b[1;32m    226\u001b[0m \u001b[0;34m\u001b[0m\u001b[0m\n\u001b[1;32m    227\u001b[0m     \u001b[0;32mdef\u001b[0m \u001b[0m__len__\u001b[0m\u001b[0;34m(\u001b[0m\u001b[0mself\u001b[0m\u001b[0;34m)\u001b[0m\u001b[0;34m:\u001b[0m\u001b[0;34m\u001b[0m\u001b[0;34m\u001b[0m\u001b[0m\n",
            "\u001b[0;32m/usr/local/lib/python3.6/dist-packages/joblib/parallel.py\u001b[0m in \u001b[0;36m<listcomp>\u001b[0;34m(.0)\u001b[0m\n\u001b[1;32m    223\u001b[0m         \u001b[0;32mwith\u001b[0m \u001b[0mparallel_backend\u001b[0m\u001b[0;34m(\u001b[0m\u001b[0mself\u001b[0m\u001b[0;34m.\u001b[0m\u001b[0m_backend\u001b[0m\u001b[0;34m,\u001b[0m \u001b[0mn_jobs\u001b[0m\u001b[0;34m=\u001b[0m\u001b[0mself\u001b[0m\u001b[0;34m.\u001b[0m\u001b[0m_n_jobs\u001b[0m\u001b[0;34m)\u001b[0m\u001b[0;34m:\u001b[0m\u001b[0;34m\u001b[0m\u001b[0;34m\u001b[0m\u001b[0m\n\u001b[1;32m    224\u001b[0m             return [func(*args, **kwargs)\n\u001b[0;32m--> 225\u001b[0;31m                     for func, args, kwargs in self.items]\n\u001b[0m\u001b[1;32m    226\u001b[0m \u001b[0;34m\u001b[0m\u001b[0m\n\u001b[1;32m    227\u001b[0m     \u001b[0;32mdef\u001b[0m \u001b[0m__len__\u001b[0m\u001b[0;34m(\u001b[0m\u001b[0mself\u001b[0m\u001b[0;34m)\u001b[0m\u001b[0;34m:\u001b[0m\u001b[0;34m\u001b[0m\u001b[0;34m\u001b[0m\u001b[0m\n",
            "\u001b[0;32m/usr/local/lib/python3.6/dist-packages/sklearn/model_selection/_validation.py\u001b[0m in \u001b[0;36m_fit_and_score\u001b[0;34m(estimator, X, y, scorer, train, test, verbose, parameters, fit_params, return_train_score, return_parameters, return_n_test_samples, return_times, return_estimator, error_score)\u001b[0m\n\u001b[1;32m    514\u001b[0m             \u001b[0mestimator\u001b[0m\u001b[0;34m.\u001b[0m\u001b[0mfit\u001b[0m\u001b[0;34m(\u001b[0m\u001b[0mX_train\u001b[0m\u001b[0;34m,\u001b[0m \u001b[0;34m**\u001b[0m\u001b[0mfit_params\u001b[0m\u001b[0;34m)\u001b[0m\u001b[0;34m\u001b[0m\u001b[0;34m\u001b[0m\u001b[0m\n\u001b[1;32m    515\u001b[0m         \u001b[0;32melse\u001b[0m\u001b[0;34m:\u001b[0m\u001b[0;34m\u001b[0m\u001b[0;34m\u001b[0m\u001b[0m\n\u001b[0;32m--> 516\u001b[0;31m             \u001b[0mestimator\u001b[0m\u001b[0;34m.\u001b[0m\u001b[0mfit\u001b[0m\u001b[0;34m(\u001b[0m\u001b[0mX_train\u001b[0m\u001b[0;34m,\u001b[0m \u001b[0my_train\u001b[0m\u001b[0;34m,\u001b[0m \u001b[0;34m**\u001b[0m\u001b[0mfit_params\u001b[0m\u001b[0;34m)\u001b[0m\u001b[0;34m\u001b[0m\u001b[0;34m\u001b[0m\u001b[0m\n\u001b[0m\u001b[1;32m    517\u001b[0m \u001b[0;34m\u001b[0m\u001b[0m\n\u001b[1;32m    518\u001b[0m     \u001b[0;32mexcept\u001b[0m \u001b[0mException\u001b[0m \u001b[0;32mas\u001b[0m \u001b[0me\u001b[0m\u001b[0;34m:\u001b[0m\u001b[0;34m\u001b[0m\u001b[0;34m\u001b[0m\u001b[0m\n",
            "\u001b[0;32m/usr/local/lib/python3.6/dist-packages/sklearn/ensemble/forest.py\u001b[0m in \u001b[0;36mfit\u001b[0;34m(self, X, y, sample_weight)\u001b[0m\n\u001b[1;32m    328\u001b[0m                     \u001b[0mt\u001b[0m\u001b[0;34m,\u001b[0m \u001b[0mself\u001b[0m\u001b[0;34m,\u001b[0m \u001b[0mX\u001b[0m\u001b[0;34m,\u001b[0m \u001b[0my\u001b[0m\u001b[0;34m,\u001b[0m \u001b[0msample_weight\u001b[0m\u001b[0;34m,\u001b[0m \u001b[0mi\u001b[0m\u001b[0;34m,\u001b[0m \u001b[0mlen\u001b[0m\u001b[0;34m(\u001b[0m\u001b[0mtrees\u001b[0m\u001b[0;34m)\u001b[0m\u001b[0;34m,\u001b[0m\u001b[0;34m\u001b[0m\u001b[0;34m\u001b[0m\u001b[0m\n\u001b[1;32m    329\u001b[0m                     verbose=self.verbose, class_weight=self.class_weight)\n\u001b[0;32m--> 330\u001b[0;31m                 for i, t in enumerate(trees))\n\u001b[0m\u001b[1;32m    331\u001b[0m \u001b[0;34m\u001b[0m\u001b[0m\n\u001b[1;32m    332\u001b[0m             \u001b[0;31m# Collect newly grown trees\u001b[0m\u001b[0;34m\u001b[0m\u001b[0;34m\u001b[0m\u001b[0;34m\u001b[0m\u001b[0m\n",
            "\u001b[0;32m/usr/local/lib/python3.6/dist-packages/joblib/parallel.py\u001b[0m in \u001b[0;36m__call__\u001b[0;34m(self, iterable)\u001b[0m\n\u001b[1;32m    922\u001b[0m                 \u001b[0mself\u001b[0m\u001b[0;34m.\u001b[0m\u001b[0m_iterating\u001b[0m \u001b[0;34m=\u001b[0m \u001b[0mself\u001b[0m\u001b[0;34m.\u001b[0m\u001b[0m_original_iterator\u001b[0m \u001b[0;32mis\u001b[0m \u001b[0;32mnot\u001b[0m \u001b[0;32mNone\u001b[0m\u001b[0;34m\u001b[0m\u001b[0;34m\u001b[0m\u001b[0m\n\u001b[1;32m    923\u001b[0m \u001b[0;34m\u001b[0m\u001b[0m\n\u001b[0;32m--> 924\u001b[0;31m             \u001b[0;32mwhile\u001b[0m \u001b[0mself\u001b[0m\u001b[0;34m.\u001b[0m\u001b[0mdispatch_one_batch\u001b[0m\u001b[0;34m(\u001b[0m\u001b[0miterator\u001b[0m\u001b[0;34m)\u001b[0m\u001b[0;34m:\u001b[0m\u001b[0;34m\u001b[0m\u001b[0;34m\u001b[0m\u001b[0m\n\u001b[0m\u001b[1;32m    925\u001b[0m                 \u001b[0;32mpass\u001b[0m\u001b[0;34m\u001b[0m\u001b[0;34m\u001b[0m\u001b[0m\n\u001b[1;32m    926\u001b[0m \u001b[0;34m\u001b[0m\u001b[0m\n",
            "\u001b[0;32m/usr/local/lib/python3.6/dist-packages/joblib/parallel.py\u001b[0m in \u001b[0;36mdispatch_one_batch\u001b[0;34m(self, iterator)\u001b[0m\n\u001b[1;32m    757\u001b[0m                 \u001b[0;32mreturn\u001b[0m \u001b[0;32mFalse\u001b[0m\u001b[0;34m\u001b[0m\u001b[0;34m\u001b[0m\u001b[0m\n\u001b[1;32m    758\u001b[0m             \u001b[0;32melse\u001b[0m\u001b[0;34m:\u001b[0m\u001b[0;34m\u001b[0m\u001b[0;34m\u001b[0m\u001b[0m\n\u001b[0;32m--> 759\u001b[0;31m                 \u001b[0mself\u001b[0m\u001b[0;34m.\u001b[0m\u001b[0m_dispatch\u001b[0m\u001b[0;34m(\u001b[0m\u001b[0mtasks\u001b[0m\u001b[0;34m)\u001b[0m\u001b[0;34m\u001b[0m\u001b[0;34m\u001b[0m\u001b[0m\n\u001b[0m\u001b[1;32m    760\u001b[0m                 \u001b[0;32mreturn\u001b[0m \u001b[0;32mTrue\u001b[0m\u001b[0;34m\u001b[0m\u001b[0;34m\u001b[0m\u001b[0m\n\u001b[1;32m    761\u001b[0m \u001b[0;34m\u001b[0m\u001b[0m\n",
            "\u001b[0;32m/usr/local/lib/python3.6/dist-packages/joblib/parallel.py\u001b[0m in \u001b[0;36m_dispatch\u001b[0;34m(self, batch)\u001b[0m\n\u001b[1;32m    714\u001b[0m         \u001b[0;32mwith\u001b[0m \u001b[0mself\u001b[0m\u001b[0;34m.\u001b[0m\u001b[0m_lock\u001b[0m\u001b[0;34m:\u001b[0m\u001b[0;34m\u001b[0m\u001b[0;34m\u001b[0m\u001b[0m\n\u001b[1;32m    715\u001b[0m             \u001b[0mjob_idx\u001b[0m \u001b[0;34m=\u001b[0m \u001b[0mlen\u001b[0m\u001b[0;34m(\u001b[0m\u001b[0mself\u001b[0m\u001b[0;34m.\u001b[0m\u001b[0m_jobs\u001b[0m\u001b[0;34m)\u001b[0m\u001b[0;34m\u001b[0m\u001b[0;34m\u001b[0m\u001b[0m\n\u001b[0;32m--> 716\u001b[0;31m             \u001b[0mjob\u001b[0m \u001b[0;34m=\u001b[0m \u001b[0mself\u001b[0m\u001b[0;34m.\u001b[0m\u001b[0m_backend\u001b[0m\u001b[0;34m.\u001b[0m\u001b[0mapply_async\u001b[0m\u001b[0;34m(\u001b[0m\u001b[0mbatch\u001b[0m\u001b[0;34m,\u001b[0m \u001b[0mcallback\u001b[0m\u001b[0;34m=\u001b[0m\u001b[0mcb\u001b[0m\u001b[0;34m)\u001b[0m\u001b[0;34m\u001b[0m\u001b[0;34m\u001b[0m\u001b[0m\n\u001b[0m\u001b[1;32m    717\u001b[0m             \u001b[0;31m# A job can complete so quickly than its callback is\u001b[0m\u001b[0;34m\u001b[0m\u001b[0;34m\u001b[0m\u001b[0;34m\u001b[0m\u001b[0m\n\u001b[1;32m    718\u001b[0m             \u001b[0;31m# called before we get here, causing self._jobs to\u001b[0m\u001b[0;34m\u001b[0m\u001b[0;34m\u001b[0m\u001b[0;34m\u001b[0m\u001b[0m\n",
            "\u001b[0;32m/usr/local/lib/python3.6/dist-packages/joblib/_parallel_backends.py\u001b[0m in \u001b[0;36mapply_async\u001b[0;34m(self, func, callback)\u001b[0m\n\u001b[1;32m    180\u001b[0m     \u001b[0;32mdef\u001b[0m \u001b[0mapply_async\u001b[0m\u001b[0;34m(\u001b[0m\u001b[0mself\u001b[0m\u001b[0;34m,\u001b[0m \u001b[0mfunc\u001b[0m\u001b[0;34m,\u001b[0m \u001b[0mcallback\u001b[0m\u001b[0;34m=\u001b[0m\u001b[0;32mNone\u001b[0m\u001b[0;34m)\u001b[0m\u001b[0;34m:\u001b[0m\u001b[0;34m\u001b[0m\u001b[0;34m\u001b[0m\u001b[0m\n\u001b[1;32m    181\u001b[0m         \u001b[0;34m\"\"\"Schedule a func to be run\"\"\"\u001b[0m\u001b[0;34m\u001b[0m\u001b[0;34m\u001b[0m\u001b[0m\n\u001b[0;32m--> 182\u001b[0;31m         \u001b[0mresult\u001b[0m \u001b[0;34m=\u001b[0m \u001b[0mImmediateResult\u001b[0m\u001b[0;34m(\u001b[0m\u001b[0mfunc\u001b[0m\u001b[0;34m)\u001b[0m\u001b[0;34m\u001b[0m\u001b[0;34m\u001b[0m\u001b[0m\n\u001b[0m\u001b[1;32m    183\u001b[0m         \u001b[0;32mif\u001b[0m \u001b[0mcallback\u001b[0m\u001b[0;34m:\u001b[0m\u001b[0;34m\u001b[0m\u001b[0;34m\u001b[0m\u001b[0m\n\u001b[1;32m    184\u001b[0m             \u001b[0mcallback\u001b[0m\u001b[0;34m(\u001b[0m\u001b[0mresult\u001b[0m\u001b[0;34m)\u001b[0m\u001b[0;34m\u001b[0m\u001b[0;34m\u001b[0m\u001b[0m\n",
            "\u001b[0;32m/usr/local/lib/python3.6/dist-packages/joblib/_parallel_backends.py\u001b[0m in \u001b[0;36m__init__\u001b[0;34m(self, batch)\u001b[0m\n\u001b[1;32m    547\u001b[0m         \u001b[0;31m# Don't delay the application, to avoid keeping the input\u001b[0m\u001b[0;34m\u001b[0m\u001b[0;34m\u001b[0m\u001b[0;34m\u001b[0m\u001b[0m\n\u001b[1;32m    548\u001b[0m         \u001b[0;31m# arguments in memory\u001b[0m\u001b[0;34m\u001b[0m\u001b[0;34m\u001b[0m\u001b[0;34m\u001b[0m\u001b[0m\n\u001b[0;32m--> 549\u001b[0;31m         \u001b[0mself\u001b[0m\u001b[0;34m.\u001b[0m\u001b[0mresults\u001b[0m \u001b[0;34m=\u001b[0m \u001b[0mbatch\u001b[0m\u001b[0;34m(\u001b[0m\u001b[0;34m)\u001b[0m\u001b[0;34m\u001b[0m\u001b[0;34m\u001b[0m\u001b[0m\n\u001b[0m\u001b[1;32m    550\u001b[0m \u001b[0;34m\u001b[0m\u001b[0m\n\u001b[1;32m    551\u001b[0m     \u001b[0;32mdef\u001b[0m \u001b[0mget\u001b[0m\u001b[0;34m(\u001b[0m\u001b[0mself\u001b[0m\u001b[0;34m)\u001b[0m\u001b[0;34m:\u001b[0m\u001b[0;34m\u001b[0m\u001b[0;34m\u001b[0m\u001b[0m\n",
            "\u001b[0;32m/usr/local/lib/python3.6/dist-packages/joblib/parallel.py\u001b[0m in \u001b[0;36m__call__\u001b[0;34m(self)\u001b[0m\n\u001b[1;32m    223\u001b[0m         \u001b[0;32mwith\u001b[0m \u001b[0mparallel_backend\u001b[0m\u001b[0;34m(\u001b[0m\u001b[0mself\u001b[0m\u001b[0;34m.\u001b[0m\u001b[0m_backend\u001b[0m\u001b[0;34m,\u001b[0m \u001b[0mn_jobs\u001b[0m\u001b[0;34m=\u001b[0m\u001b[0mself\u001b[0m\u001b[0;34m.\u001b[0m\u001b[0m_n_jobs\u001b[0m\u001b[0;34m)\u001b[0m\u001b[0;34m:\u001b[0m\u001b[0;34m\u001b[0m\u001b[0;34m\u001b[0m\u001b[0m\n\u001b[1;32m    224\u001b[0m             return [func(*args, **kwargs)\n\u001b[0;32m--> 225\u001b[0;31m                     for func, args, kwargs in self.items]\n\u001b[0m\u001b[1;32m    226\u001b[0m \u001b[0;34m\u001b[0m\u001b[0m\n\u001b[1;32m    227\u001b[0m     \u001b[0;32mdef\u001b[0m \u001b[0m__len__\u001b[0m\u001b[0;34m(\u001b[0m\u001b[0mself\u001b[0m\u001b[0;34m)\u001b[0m\u001b[0;34m:\u001b[0m\u001b[0;34m\u001b[0m\u001b[0;34m\u001b[0m\u001b[0m\n",
            "\u001b[0;32m/usr/local/lib/python3.6/dist-packages/joblib/parallel.py\u001b[0m in \u001b[0;36m<listcomp>\u001b[0;34m(.0)\u001b[0m\n\u001b[1;32m    223\u001b[0m         \u001b[0;32mwith\u001b[0m \u001b[0mparallel_backend\u001b[0m\u001b[0;34m(\u001b[0m\u001b[0mself\u001b[0m\u001b[0;34m.\u001b[0m\u001b[0m_backend\u001b[0m\u001b[0;34m,\u001b[0m \u001b[0mn_jobs\u001b[0m\u001b[0;34m=\u001b[0m\u001b[0mself\u001b[0m\u001b[0;34m.\u001b[0m\u001b[0m_n_jobs\u001b[0m\u001b[0;34m)\u001b[0m\u001b[0;34m:\u001b[0m\u001b[0;34m\u001b[0m\u001b[0;34m\u001b[0m\u001b[0m\n\u001b[1;32m    224\u001b[0m             return [func(*args, **kwargs)\n\u001b[0;32m--> 225\u001b[0;31m                     for func, args, kwargs in self.items]\n\u001b[0m\u001b[1;32m    226\u001b[0m \u001b[0;34m\u001b[0m\u001b[0m\n\u001b[1;32m    227\u001b[0m     \u001b[0;32mdef\u001b[0m \u001b[0m__len__\u001b[0m\u001b[0;34m(\u001b[0m\u001b[0mself\u001b[0m\u001b[0;34m)\u001b[0m\u001b[0;34m:\u001b[0m\u001b[0;34m\u001b[0m\u001b[0;34m\u001b[0m\u001b[0m\n",
            "\u001b[0;32m/usr/local/lib/python3.6/dist-packages/sklearn/ensemble/forest.py\u001b[0m in \u001b[0;36m_parallel_build_trees\u001b[0;34m(tree, forest, X, y, sample_weight, tree_idx, n_trees, verbose, class_weight)\u001b[0m\n\u001b[1;32m    116\u001b[0m             \u001b[0mcurr_sample_weight\u001b[0m \u001b[0;34m*=\u001b[0m \u001b[0mcompute_sample_weight\u001b[0m\u001b[0;34m(\u001b[0m\u001b[0;34m'balanced'\u001b[0m\u001b[0;34m,\u001b[0m \u001b[0my\u001b[0m\u001b[0;34m,\u001b[0m \u001b[0mindices\u001b[0m\u001b[0;34m)\u001b[0m\u001b[0;34m\u001b[0m\u001b[0;34m\u001b[0m\u001b[0m\n\u001b[1;32m    117\u001b[0m \u001b[0;34m\u001b[0m\u001b[0m\n\u001b[0;32m--> 118\u001b[0;31m         \u001b[0mtree\u001b[0m\u001b[0;34m.\u001b[0m\u001b[0mfit\u001b[0m\u001b[0;34m(\u001b[0m\u001b[0mX\u001b[0m\u001b[0;34m,\u001b[0m \u001b[0my\u001b[0m\u001b[0;34m,\u001b[0m \u001b[0msample_weight\u001b[0m\u001b[0;34m=\u001b[0m\u001b[0mcurr_sample_weight\u001b[0m\u001b[0;34m,\u001b[0m \u001b[0mcheck_input\u001b[0m\u001b[0;34m=\u001b[0m\u001b[0;32mFalse\u001b[0m\u001b[0;34m)\u001b[0m\u001b[0;34m\u001b[0m\u001b[0;34m\u001b[0m\u001b[0m\n\u001b[0m\u001b[1;32m    119\u001b[0m     \u001b[0;32melse\u001b[0m\u001b[0;34m:\u001b[0m\u001b[0;34m\u001b[0m\u001b[0;34m\u001b[0m\u001b[0m\n\u001b[1;32m    120\u001b[0m         \u001b[0mtree\u001b[0m\u001b[0;34m.\u001b[0m\u001b[0mfit\u001b[0m\u001b[0;34m(\u001b[0m\u001b[0mX\u001b[0m\u001b[0;34m,\u001b[0m \u001b[0my\u001b[0m\u001b[0;34m,\u001b[0m \u001b[0msample_weight\u001b[0m\u001b[0;34m=\u001b[0m\u001b[0msample_weight\u001b[0m\u001b[0;34m,\u001b[0m \u001b[0mcheck_input\u001b[0m\u001b[0;34m=\u001b[0m\u001b[0;32mFalse\u001b[0m\u001b[0;34m)\u001b[0m\u001b[0;34m\u001b[0m\u001b[0;34m\u001b[0m\u001b[0m\n",
            "\u001b[0;32m/usr/local/lib/python3.6/dist-packages/sklearn/tree/tree.py\u001b[0m in \u001b[0;36mfit\u001b[0;34m(self, X, y, sample_weight, check_input, X_idx_sorted)\u001b[0m\n\u001b[1;32m    814\u001b[0m             \u001b[0msample_weight\u001b[0m\u001b[0;34m=\u001b[0m\u001b[0msample_weight\u001b[0m\u001b[0;34m,\u001b[0m\u001b[0;34m\u001b[0m\u001b[0;34m\u001b[0m\u001b[0m\n\u001b[1;32m    815\u001b[0m             \u001b[0mcheck_input\u001b[0m\u001b[0;34m=\u001b[0m\u001b[0mcheck_input\u001b[0m\u001b[0;34m,\u001b[0m\u001b[0;34m\u001b[0m\u001b[0;34m\u001b[0m\u001b[0m\n\u001b[0;32m--> 816\u001b[0;31m             X_idx_sorted=X_idx_sorted)\n\u001b[0m\u001b[1;32m    817\u001b[0m         \u001b[0;32mreturn\u001b[0m \u001b[0mself\u001b[0m\u001b[0;34m\u001b[0m\u001b[0;34m\u001b[0m\u001b[0m\n\u001b[1;32m    818\u001b[0m \u001b[0;34m\u001b[0m\u001b[0m\n",
            "\u001b[0;32m/usr/local/lib/python3.6/dist-packages/sklearn/tree/tree.py\u001b[0m in \u001b[0;36mfit\u001b[0;34m(self, X, y, sample_weight, check_input, X_idx_sorted)\u001b[0m\n\u001b[1;32m    378\u001b[0m                                            min_impurity_split)\n\u001b[1;32m    379\u001b[0m \u001b[0;34m\u001b[0m\u001b[0m\n\u001b[0;32m--> 380\u001b[0;31m         \u001b[0mbuilder\u001b[0m\u001b[0;34m.\u001b[0m\u001b[0mbuild\u001b[0m\u001b[0;34m(\u001b[0m\u001b[0mself\u001b[0m\u001b[0;34m.\u001b[0m\u001b[0mtree_\u001b[0m\u001b[0;34m,\u001b[0m \u001b[0mX\u001b[0m\u001b[0;34m,\u001b[0m \u001b[0my\u001b[0m\u001b[0;34m,\u001b[0m \u001b[0msample_weight\u001b[0m\u001b[0;34m,\u001b[0m \u001b[0mX_idx_sorted\u001b[0m\u001b[0;34m)\u001b[0m\u001b[0;34m\u001b[0m\u001b[0;34m\u001b[0m\u001b[0m\n\u001b[0m\u001b[1;32m    381\u001b[0m \u001b[0;34m\u001b[0m\u001b[0m\n\u001b[1;32m    382\u001b[0m         \u001b[0;32mif\u001b[0m \u001b[0mself\u001b[0m\u001b[0;34m.\u001b[0m\u001b[0mn_outputs_\u001b[0m \u001b[0;34m==\u001b[0m \u001b[0;36m1\u001b[0m\u001b[0;34m:\u001b[0m\u001b[0;34m\u001b[0m\u001b[0;34m\u001b[0m\u001b[0m\n",
            "\u001b[0;31mKeyboardInterrupt\u001b[0m: "
          ]
        }
      ]
    },
    {
      "cell_type": "markdown",
      "metadata": {
        "id": "NhzqFADC9JoN",
        "colab_type": "text"
      },
      "source": [
        "##byseverity Experiments"
      ]
    },
    {
      "cell_type": "code",
      "metadata": {
        "id": "SUiqjOvP9Myl",
        "colab_type": "code",
        "outputId": "d07d9206-34db-4b21-cc85-08c373dd6742",
        "colab": {
          "base_uri": "https://localhost:8080/",
          "height": 1000
        }
      },
      "source": [
        "from sklearn.utils import shuffle\n",
        "results['byseverity'] = {}\n",
        "models['byseverity'] = {}\n",
        "y_test_round = None\n",
        "y_pred_round = {}\n",
        "\n",
        "print(\"By Severity\")\n",
        "for j in range(nrounds):\n",
        "  for i,fold in enumerate(severities):\n",
        "    print(\"{}\".format(fold), end=\" x \")\n",
        "    x_test,y_test = eval('xn_'+str((i+len(severities)+1)%4)),eval('yn_'+str((i+len(severities)+1)%4))\n",
        "    x_test,y_test = concatenate_datasets(x_test,y_test,eval('x'+str(fold)),eval('y'+str(fold)))\n",
        "    if y_test_round is None:\n",
        "      y_test_round = np.copy(y_test)\n",
        "    else:\n",
        "      y_test_round = np.concatenate((y_test_round,y_test))\n",
        "    x_train,y_train = None,None  \n",
        "    for ni in list(range(0,4)):\n",
        "      if ni != (i+len(severities)+1)%4:\n",
        "        x_train,y_train = concatenate_datasets(x_train,y_train,eval('xn_'+str(ni)),eval('yn_'+str(ni)))\n",
        "    for tfold in severities[:i]+severities[i+1:]:\n",
        "      x_train,y_train = concatenate_datasets(x_train,y_train,eval('x'+str(tfold)),eval('y'+str(tfold)))\n",
        "    x_train,y_train = shuffle(x_train,y_train,random_state=36851234+j)\n",
        "    print(\"{}/{}\".format(j+1,nrounds))\n",
        "    for clfname,model in clfs:\n",
        "      print(clfname, end=\":\\t\")\n",
        "      if not clfname in results['byseverity']:\n",
        "        results['byseverity'][clfname] = []\n",
        "      history = model.fit(x_train ,y_train)\n",
        "      y_pred = model.predict(x_test)\n",
        "      if not clfname in y_pred_round:\n",
        "        y_pred_round[clfname] = None\n",
        "      if y_pred_round[clfname] is None:\n",
        "        y_pred_round[clfname] = np.copy(y_pred)\n",
        "      else:\n",
        "        y_pred_round[clfname] = np.concatenate((y_pred_round[clfname],y_pred))\n",
        "      if not clfname+str(fold) in models['byseverity']:\n",
        "        models['byseverity'][clfname+str(fold)] = model\n",
        "      results['byseverity'][clfname].append([accuracy_score(y_test,y_pred),f1_score(y_test,y_pred,average='macro')])\n",
        "      print(results['byseverity'][clfname][-1])\n",
        "      if genconfmat:\n",
        "        cnf_matrix = confusion_matrix(y_test, y_pred)\n",
        "        print(cnf_matrix)\n",
        "        plt.figure(figsize=(tam,tam))\n",
        "        plot_confusion_matrix(cnf_matrix, classes=class_names, title=clfname+' - Fold '+str(fold)+' - Round '+str(j+1), normalize=False)\n",
        "        plt.savefig('cnfmatrix_byseverity'+clfname+str(fold)+'round'+str(j)+'.png')\n",
        "        plt.show()\n",
        "  for clfname,model in clfs:\n",
        "    print([accuracy_score(y_test_round, y_pred_round[clfname]),\n",
        "            f1_score(y_test_round, y_pred_round[clfname],average='macro')])\n",
        "    if genconfmat:\n",
        "      cnf_matrix = confusion_matrix(y_test_round, y_pred_round[clfname])\n",
        "      print(cnf_matrix)\n",
        "      plt.figure(figsize=(tam,tam))\n",
        "      plot_confusion_matrix(cnf_matrix, classes=class_names, title=clfname+' - Round '+str(j+1), normalize=False)\n",
        "      plt.savefig('cnfmatrix_kfold'+clfname+'_round'+str(j+1)+'.png')\n",
        "      plt.show()\n",
        "    y_pred_round[clfname] = None\n",
        "  y_test_round = None"
      ],
      "execution_count": 0,
      "outputs": [
        {
          "output_type": "stream",
          "text": [
            "By Severity\n",
            "007 x 1/5\n",
            "K-NNeighbors:\t[0.592019687115486, 0.6179135041535164]\n",
            "[[1890    0    0    0]\n",
            " [   0  676    9 1215]\n",
            " [   7   89 1690  108]\n",
            " [   1  905 2308 2480]]\n",
            "Confusion matrix, without normalization\n"
          ],
          "name": "stdout"
        },
        {
          "output_type": "display_data",
          "data": {
            "image/png": "[encoded data removed]",
            "text/plain": [
              "<Figure size 264x264 with 1 Axes>"
            ]
          },
          "metadata": {
            "tags": []
          }
        },
        {
          "output_type": "stream",
          "text": [
            "SVM:\t[0.5722446827210406, 0.6169506508012743]\n",
            "[[1890    0    0    0]\n",
            " [   0  856    0 1044]\n",
            " [   2   68 1817    7]\n",
            " [   0 1986 1760 1948]]\n",
            "Confusion matrix, without normalization\n"
          ],
          "name": "stdout"
        },
        {
          "output_type": "display_data",
          "data": {
            "image/png": "[encoded data removed]",
            "text/plain": [
              "<Figure size 264x264 with 1 Axes>"
            ]
          },
          "metadata": {
            "tags": []
          }
        },
        {
          "output_type": "stream",
          "text": [
            "RandomForest:\t[0.5697837932852874, 0.5509330140160376]\n",
            "[[1890    0    0    0]\n",
            " [   0   98    0 1802]\n",
            " [   2   52 1547  293]\n",
            " [   0  939 1807 2948]]\n",
            "Confusion matrix, without normalization\n"
          ],
          "name": "stdout"
        },
        {
          "output_type": "display_data",
          "data": {
            "image/png": "[encoded data removed]",
            "text/plain": [
              "<Figure size 264x264 with 1 Axes>"
            ]
          },
          "metadata": {
            "tags": []
          }
        },
        {
          "output_type": "stream",
          "text": [
            "ANN-Conv1d:\t"
          ],
          "name": "stdout"
        }
      ]
    },
    {
      "cell_type": "markdown",
      "metadata": {
        "id": "1dpUZ9Q0S4Nl",
        "colab_type": "text"
      },
      "source": [
        "#Results Summary"
      ]
    },
    {
      "cell_type": "code",
      "metadata": {
        "id": "z-05LJK0S4wk",
        "colab_type": "code",
        "outputId": "08126a29-1508-466c-d808-1fb4d6de54c0",
        "colab": {
          "base_uri": "https://localhost:8080/",
          "height": 1000
        }
      },
      "source": [
        "for evaluation in results.keys():\n",
        "  print(\"\\n\"+30*\"#\"+\"\\n\"+evaluation+\"\\n\"+30*\"#\")\n",
        "  for clfname,model in clfs:\n",
        "    print(\"\\n\\t\"+clfname+\" Results\\nFold\\tAccuracy\\tF1-Score\")\n",
        "    for i,r in enumerate(results[evaluation][clfname]):\n",
        "      print(\"{}\\t\".format(i+1),end=\"\")\n",
        "      print(r)\n",
        "    print(\"Average\\tAccuracy\\tF1-Score\\n\\t\",end=\"\")\n",
        "    print(np.mean(results[evaluation][clfname],axis=0))\n",
        "    print(\"StdDev\\tAccuracy\\tF1-Score\\n\\t\",end=\"\")\n",
        "    print(np.std(results[evaluation][clfname],axis=0))"
      ],
      "execution_count": 0,
      "outputs": [
        {
          "output_type": "stream",
          "text": [
            "\n",
            "##############################\n",
            "kfold\n",
            "##############################\n",
            "\n",
            "\tK-NNeighbors Results\n",
            "Fold\tAccuracy\tF1-Score\n",
            "1\t[0.9903846153846154, 0.9880884855360181]\n",
            "Average\tAccuracy\tF1-Score\n",
            "\t[0.99038462 0.98808849]\n",
            "StdDev\tAccuracy\tF1-Score\n",
            "\t[0. 0.]\n",
            "\n",
            "\tRandomForest Results\n",
            "Fold\tAccuracy\tF1-Score\n",
            "1\t[1.0, 1.0]\n",
            "Average\tAccuracy\tF1-Score\n",
            "\t[1. 1.]\n",
            "StdDev\tAccuracy\tF1-Score\n",
            "\t[0. 0.]\n",
            "\n",
            "\tANN-Conv1d Results\n",
            "Fold\tAccuracy\tF1-Score\n",
            "1\t[0.5576923076923077, 0.4858552296135151]\n",
            "Average\tAccuracy\tF1-Score\n",
            "\t[0.55769231 0.48585523]\n",
            "StdDev\tAccuracy\tF1-Score\n",
            "\t[0. 0.]\n",
            "\n",
            "##############################\n",
            "byseverity\n",
            "##############################\n",
            "\n",
            "\tK-NNeighbors Results\n",
            "Fold\tAccuracy\tF1-Score\n",
            "1\t[0.6013513513513513, 0.5962017039497644]\n",
            "2\t[0.5436893203883495, 0.4882075471698113]\n",
            "3\t[0.6048387096774194, 0.6482793522267207]\n",
            "4\t[0.3684210526315789, 0.25]\n",
            "Average\tAccuracy\tF1-Score\n",
            "\t[0.52957511 0.49567215]\n",
            "StdDev\tAccuracy\tF1-Score\n",
            "\t[0.09615909 0.15313856]\n",
            "\n",
            "\tRandomForest Results\n",
            "Fold\tAccuracy\tF1-Score\n",
            "1\t[0.5675675675675675, 0.5956149455111572]\n",
            "2\t[0.5728155339805825, 0.4969574036511156]\n",
            "3\t[0.5725806451612904, 0.5581761006289309]\n",
            "4\t[0.3684210526315789, 0.25]\n",
            "Average\tAccuracy\tF1-Score\n",
            "\t[0.5203462  0.47518711]\n",
            "StdDev\tAccuracy\tF1-Score\n",
            "\t[0.08773907 0.13469708]\n",
            "\n",
            "\tANN-Conv1d Results\n",
            "Fold\tAccuracy\tF1-Score\n",
            "1\t[0.6148648648648649, 0.6298597081102869]\n",
            "2\t[0.5922330097087378, 0.5178571428571429]\n",
            "3\t[0.5161290322580645, 0.5275278238219275]\n",
            "4\t[0.5789473684210527, 0.375]\n",
            "Average\tAccuracy\tF1-Score\n",
            "\t[0.57554357 0.51256117]\n",
            "StdDev\tAccuracy\tF1-Score\n",
            "\t[0.03662777 0.09073873]\n"
          ],
          "name": "stdout"
        }
      ]
    }
  ]
}